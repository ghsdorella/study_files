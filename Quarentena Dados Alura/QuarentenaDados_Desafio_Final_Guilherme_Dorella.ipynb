{
  "nbformat": 4,
  "nbformat_minor": 0,
  "metadata": {
    "colab": {
      "name": "v10 Guilherme Dorella QuarentenaDados Desafio Final.ipynb",
      "provenance": [],
      "collapsed_sections": [],
      "machine_shape": "hm"
    },
    "kernelspec": {
      "name": "python3",
      "display_name": "Python 3"
    }
  },
  "cells": [
    {
      "cell_type": "markdown",
      "metadata": {
        "id": "yKPwAb_7p_lK",
        "colab_type": "text"
      },
      "source": [
        "# Desafio #QuarentenaDados\n",
        "\n",
        "Bem-vinda e bem-vindo ao desafio #QuarentenaDados valendo um **Nintendo Switch**!\n",
        "\n",
        "Esse notebook traz informações dos dados e como você deve configurar seu arquivo final para submissão.\n",
        "\n",
        "**Caso queira usar esse notebook como exemplo para desenvolver seu projeto, clique em file e escolha a opção Save a copy in Drive**\n"
      ]
    },
    {
      "cell_type": "markdown",
      "metadata": {
        "id": "o0faxOX8rZfp",
        "colab_type": "text"
      },
      "source": [
        "Vamos trabalhar com uma amostra aleatória da base de dados MICRODADOS ENEM 2018, essa amostra é **diferente da apresentada em aula**. Junto com a divulgação do resultado final estaremos disponibilizando o código que gerou os dados para que você possa analisar e reproduzir os datasets. \n",
        "\n",
        "Seu objetivo é prever da melhor forma possível a nota das provas de **linguagens e códigos** (NU_NOTA_LC), dado todas as outras notas. O modelo que tiver o menor **erro quadrático médio (MSE)** vence o desafio.\n",
        "\n",
        "Para o desafio você tem três bases à disposição, duas para desenvolver seu modelo e uma para submissão da predição. As bases são as seguintes:\n",
        "\n",
        "- **dados_treino**: São 1500000 linhas contendo a nota das 4 provas + nota de redação.\n",
        "\n",
        "- **dados_teste**: São 20000 linhas contendo com notas das 4 provas + nota de redação.\n",
        "\n",
        "- **dados_desafioqt**: São 10000 linhas com nota de 3 provas + nota de redação. A nota da prova de **Linguagem e Codigos** (NU_NOTA_LC) não está disponível nessa base.\n",
        "\n",
        "\n",
        "As base **dados_treino e dados_teste**, contém as seguintes colunas; **NU_NOTA_CN, NU_NOTA_CH, NU_NOTA_MT, NU_NOTA_REDACAO, NU_NOTA_LC** (Você pode consultar a aula 5, onde o Guilherme explica o significado das siglas). A coluna que você deve realizar a **previsão** é **NU_NOTA_LC**. Você pode manipular os dados da forma que quiser, o importante é que no final submeta o arquivo com as informações corretas (detalhes da submissão serão discutidos no final deste notebook).\n",
        "\n",
        "A base **dados_desafioqt**, contém as seguintes colunas; **ID, NU_NOTA_CN, NU_NOTA_CH, NU_NOTA_MT, NU_NOTA_REDACAO**. Repare que os dados **NU_NOTA_LC** não estão presentes, essa é justamente a informação que você precisa prever. Nós temos os valores reais das notas, no final do prazo de submissão um script irá avaliar sua previsão e dará uma nota para o seu modelo. Nessa base também temos o **ID**, essa informação é importante para o envio da sua previsão, garanta que a nota prevista corresponda ao respectivo **ID**.\n",
        "\n",
        "Se você está habituado com o desenvolvimento de modelos de ML, repare que essa divisão de dados é exatamente a mesma que Treino, Teste e Validação. \n",
        "\n",
        "Abaixo preparamos um código exemplo para você seguir, sinta-se à vontade para experimentar diversos outros métodos, mas **GARANTA QUE O ARQUIVO DE SUBMISSÃO ESTEJA CONFIGURADO CORRETAMENTE**.\n",
        "\n",
        "Na primeira parte, estamos lendo a base de dados direto de arquivos no github.\n",
        "\n",
        "\n",
        "\n",
        "\n"
      ]
    },
    {
      "cell_type": "code",
      "metadata": {
        "id": "c6cK3pPodiB1",
        "colab_type": "code",
        "colab": {}
      },
      "source": [
        "import pandas as pd\n",
        "\n",
        "URI_TREINO = \"https://github.com/tgcsantos/quaretenadados/blob/master/DADOS_TREINO.csv?raw=true\"\n",
        "URI_TESTE = \"https://github.com/tgcsantos/quaretenadados/raw/master/DADOS_TESTE.csv\"\n",
        "URI_DESAFIOQT = \"https://github.com/tgcsantos/quaretenadados/raw/master/DESAFIOQT.csv\"\n",
        "\n",
        "dados_treino = pd.read_csv(URI_TREINO)\n",
        "dados_teste = pd.read_csv(URI_TESTE)\n",
        "dados_desafioqt = pd.read_csv(URI_DESAFIOQT)\n",
        "\n",
        "erro_treino = \"Erro ao carregar dados de treino\"\n",
        "erro_teste = \"Erro ao carregar dados de teste\"\n",
        "erro_desafioqt = \"Erro ao carregar dados de submissão\"\n",
        "\n",
        "assert dados_treino.shape == (150000, 5), erro_treino\n",
        "assert dados_teste.shape == (20000, 5), erro_teste\n",
        "assert dados_desafioqt.shape == (10000, 5), erro_desafioqt"
      ],
      "execution_count": 0,
      "outputs": []
    },
    {
      "cell_type": "code",
      "metadata": {
        "id": "aXVxuGRZt6Yl",
        "colab_type": "code",
        "outputId": "ca335e43-1a2a-4b47-8087-32e21ede58e9",
        "colab": {
          "base_uri": "https://localhost:8080/",
          "height": 125
        }
      },
      "source": [
        "dados_treino.isna().sum()"
      ],
      "execution_count": 2,
      "outputs": [
        {
          "output_type": "execute_result",
          "data": {
            "text/plain": [
              "NU_NOTA_CN         0\n",
              "NU_NOTA_CH         0\n",
              "NU_NOTA_LC         0\n",
              "NU_NOTA_MT         0\n",
              "NU_NOTA_REDACAO    0\n",
              "dtype: int64"
            ]
          },
          "metadata": {
            "tags": []
          },
          "execution_count": 2
        }
      ]
    },
    {
      "cell_type": "code",
      "metadata": {
        "id": "QjJ3s9DbuAZD",
        "colab_type": "code",
        "outputId": "035a8d9a-fad1-477a-bbbd-104a992923c6",
        "colab": {
          "base_uri": "https://localhost:8080/",
          "height": 125
        }
      },
      "source": [
        "dados_teste.isna().sum()"
      ],
      "execution_count": 3,
      "outputs": [
        {
          "output_type": "execute_result",
          "data": {
            "text/plain": [
              "NU_NOTA_CN         0\n",
              "NU_NOTA_CH         0\n",
              "NU_NOTA_LC         0\n",
              "NU_NOTA_MT         0\n",
              "NU_NOTA_REDACAO    0\n",
              "dtype: int64"
            ]
          },
          "metadata": {
            "tags": []
          },
          "execution_count": 3
        }
      ]
    },
    {
      "cell_type": "code",
      "metadata": {
        "id": "N51uHg9LuDOR",
        "colab_type": "code",
        "outputId": "87125df4-5133-4da3-8b6b-0fc48b2d5361",
        "colab": {
          "base_uri": "https://localhost:8080/",
          "height": 125
        }
      },
      "source": [
        "dados_desafioqt.isna().sum()"
      ],
      "execution_count": 4,
      "outputs": [
        {
          "output_type": "execute_result",
          "data": {
            "text/plain": [
              "ID                 0\n",
              "NU_NOTA_CN         0\n",
              "NU_NOTA_CH         0\n",
              "NU_NOTA_MT         0\n",
              "NU_NOTA_REDACAO    0\n",
              "dtype: int64"
            ]
          },
          "metadata": {
            "tags": []
          },
          "execution_count": 4
        }
      ]
    },
    {
      "cell_type": "markdown",
      "metadata": {
        "id": "__4ltGhs54mv",
        "colab_type": "text"
      },
      "source": [
        "Agora com as bases de dados lidas, vamos separar as informações de cada dataset. X_treino e Y_treino são as **features**, X_teste e Y_teste são as **labels** a serem previstas.\n",
        "\n",
        "Duas observações nesta parte:\n",
        "\n",
        "- 1° Como já disponibilizamos os dados de treino e teste separados, você não precisa fazer *train_test_split* feito em aula (porém fique à vontade para trabalhar da forma que achar melhor).\n",
        "\n",
        "- 2° Transformamos X_treino, Y_treino, X_teste, Y_teste em arrays numpy. Se você quiser usar uma biblioteca que não aceite dataframe como entrada de dados, já deixamos pronto para você."
      ]
    },
    {
      "cell_type": "code",
      "metadata": {
        "id": "o8BrpSky-su-",
        "colab_type": "code",
        "colab": {}
      },
      "source": [
        "dados = pd.concat([dados_treino,dados_teste])"
      ],
      "execution_count": 0,
      "outputs": []
    },
    {
      "cell_type": "code",
      "metadata": {
        "id": "mayZiSgh-_MX",
        "colab_type": "code",
        "outputId": "743533ee-34ce-4780-8628-1167f1aa15ba",
        "colab": {
          "base_uri": "https://localhost:8080/",
          "height": 35
        }
      },
      "source": [
        "dados.shape"
      ],
      "execution_count": 6,
      "outputs": [
        {
          "output_type": "execute_result",
          "data": {
            "text/plain": [
              "(170000, 5)"
            ]
          },
          "metadata": {
            "tags": []
          },
          "execution_count": 6
        }
      ]
    },
    {
      "cell_type": "code",
      "metadata": {
        "id": "O5xuuicV__61",
        "colab_type": "code",
        "outputId": "f8f2c2b7-f13c-4872-92ac-87bdbedf2709",
        "colab": {
          "base_uri": "https://localhost:8080/",
          "height": 297
        }
      },
      "source": [
        "dados.describe()"
      ],
      "execution_count": 7,
      "outputs": [
        {
          "output_type": "execute_result",
          "data": {
            "text/html": [
              "<div>\n",
              "<style scoped>\n",
              "    .dataframe tbody tr th:only-of-type {\n",
              "        vertical-align: middle;\n",
              "    }\n",
              "\n",
              "    .dataframe tbody tr th {\n",
              "        vertical-align: top;\n",
              "    }\n",
              "\n",
              "    .dataframe thead th {\n",
              "        text-align: right;\n",
              "    }\n",
              "</style>\n",
              "<table border=\"1\" class=\"dataframe\">\n",
              "  <thead>\n",
              "    <tr style=\"text-align: right;\">\n",
              "      <th></th>\n",
              "      <th>NU_NOTA_CN</th>\n",
              "      <th>NU_NOTA_CH</th>\n",
              "      <th>NU_NOTA_LC</th>\n",
              "      <th>NU_NOTA_MT</th>\n",
              "      <th>NU_NOTA_REDACAO</th>\n",
              "    </tr>\n",
              "  </thead>\n",
              "  <tbody>\n",
              "    <tr>\n",
              "      <th>count</th>\n",
              "      <td>170000.000000</td>\n",
              "      <td>170000.000000</td>\n",
              "      <td>170000.000000</td>\n",
              "      <td>170000.000000</td>\n",
              "      <td>170000.000000</td>\n",
              "    </tr>\n",
              "    <tr>\n",
              "      <th>mean</th>\n",
              "      <td>493.936284</td>\n",
              "      <td>570.806641</td>\n",
              "      <td>528.463731</td>\n",
              "      <td>535.492982</td>\n",
              "      <td>516.260706</td>\n",
              "    </tr>\n",
              "    <tr>\n",
              "      <th>std</th>\n",
              "      <td>74.090309</td>\n",
              "      <td>79.288819</td>\n",
              "      <td>72.368798</td>\n",
              "      <td>102.937438</td>\n",
              "      <td>184.427359</td>\n",
              "    </tr>\n",
              "    <tr>\n",
              "      <th>min</th>\n",
              "      <td>0.000000</td>\n",
              "      <td>0.000000</td>\n",
              "      <td>0.000000</td>\n",
              "      <td>0.000000</td>\n",
              "      <td>0.000000</td>\n",
              "    </tr>\n",
              "    <tr>\n",
              "      <th>25%</th>\n",
              "      <td>435.900000</td>\n",
              "      <td>513.500000</td>\n",
              "      <td>477.900000</td>\n",
              "      <td>455.400000</td>\n",
              "      <td>360.000000</td>\n",
              "    </tr>\n",
              "    <tr>\n",
              "      <th>50%</th>\n",
              "      <td>483.700000</td>\n",
              "      <td>584.900000</td>\n",
              "      <td>533.400000</td>\n",
              "      <td>516.700000</td>\n",
              "      <td>520.000000</td>\n",
              "    </tr>\n",
              "    <tr>\n",
              "      <th>75%</th>\n",
              "      <td>542.500000</td>\n",
              "      <td>629.700000</td>\n",
              "      <td>581.300000</td>\n",
              "      <td>600.800000</td>\n",
              "      <td>640.000000</td>\n",
              "    </tr>\n",
              "    <tr>\n",
              "      <th>max</th>\n",
              "      <td>869.600000</td>\n",
              "      <td>840.900000</td>\n",
              "      <td>787.400000</td>\n",
              "      <td>996.100000</td>\n",
              "      <td>1000.000000</td>\n",
              "    </tr>\n",
              "  </tbody>\n",
              "</table>\n",
              "</div>"
            ],
            "text/plain": [
              "          NU_NOTA_CN     NU_NOTA_CH  ...     NU_NOTA_MT  NU_NOTA_REDACAO\n",
              "count  170000.000000  170000.000000  ...  170000.000000    170000.000000\n",
              "mean      493.936284     570.806641  ...     535.492982       516.260706\n",
              "std        74.090309      79.288819  ...     102.937438       184.427359\n",
              "min         0.000000       0.000000  ...       0.000000         0.000000\n",
              "25%       435.900000     513.500000  ...     455.400000       360.000000\n",
              "50%       483.700000     584.900000  ...     516.700000       520.000000\n",
              "75%       542.500000     629.700000  ...     600.800000       640.000000\n",
              "max       869.600000     840.900000  ...     996.100000      1000.000000\n",
              "\n",
              "[8 rows x 5 columns]"
            ]
          },
          "metadata": {
            "tags": []
          },
          "execution_count": 7
        }
      ]
    },
    {
      "cell_type": "code",
      "metadata": {
        "id": "fS_hvuDfXV0N",
        "colab_type": "code",
        "colab": {}
      },
      "source": [
        "dados = dados.drop((dados[(dados['NU_NOTA_CN'] == 0) & \n",
        "                    (dados['NU_NOTA_CH'] == 0) &\n",
        "                    (dados['NU_NOTA_LC'] == 0) &\n",
        "                    (dados['NU_NOTA_MT'] == 0) &\n",
        "                    (dados['NU_NOTA_REDACAO'] == 0)]).index)"
      ],
      "execution_count": 0,
      "outputs": []
    },
    {
      "cell_type": "code",
      "metadata": {
        "id": "uEtwoFBWA82d",
        "colab_type": "code",
        "outputId": "d43f4974-3881-420f-993d-96d3abfdb015",
        "colab": {
          "base_uri": "https://localhost:8080/",
          "height": 71
        }
      },
      "source": [
        "cn_count_zero = dados['NU_NOTA_CN'][dados['NU_NOTA_CN'] == 0].count()\n",
        "cn_mean = dados['NU_NOTA_CN'][dados['NU_NOTA_CN'] != 0].mean()\n",
        "cn_mediana = dados['NU_NOTA_CN'][dados['NU_NOTA_CN'] != 0].median()\n",
        "print('Zeros:{0}\\nMedia:{1}\\nMediana:{2}'.format(cn_count_zero, cn_mean, cn_mediana))"
      ],
      "execution_count": 9,
      "outputs": [
        {
          "output_type": "stream",
          "text": [
            "Zeros:18\n",
            "Media:493.99149493177913\n",
            "Mediana:483.7\n"
          ],
          "name": "stdout"
        }
      ]
    },
    {
      "cell_type": "code",
      "metadata": {
        "id": "hIDIwbNZRO5u",
        "colab_type": "code",
        "outputId": "155d6137-af65-41dd-960e-9e8ddc7a5fb0",
        "colab": {
          "base_uri": "https://localhost:8080/",
          "height": 71
        }
      },
      "source": [
        "ch_count_zero = dados['NU_NOTA_CH'][dados['NU_NOTA_CH'] == 0].count()\n",
        "ch_mean = dados['NU_NOTA_CH'][dados['NU_NOTA_CH'] != 0].mean()\n",
        "ch_mediana = dados['NU_NOTA_CH'][dados['NU_NOTA_CH'] != 0].median()\n",
        "print('Zeros:{0}\\nMedia:{1}\\nMediana:{2}'.format(ch_count_zero, ch_mean, ch_mediana))"
      ],
      "execution_count": 10,
      "outputs": [
        {
          "output_type": "stream",
          "text": [
            "Zeros:175\n",
            "Media:571.3982063783768\n",
            "Mediana:585.0\n"
          ],
          "name": "stdout"
        }
      ]
    },
    {
      "cell_type": "code",
      "metadata": {
        "id": "JxWv4KaZR-bq",
        "colab_type": "code",
        "colab": {}
      },
      "source": [
        "# lc_count_zero = dados['NU_NOTA_LC'][dados['NU_NOTA_LC'] == 0].count()\n",
        "# lc_mean = dados['NU_NOTA_LC'][dados['NU_NOTA_LC'] != 0].mean()\n",
        "# lc_mediana = dados['NU_NOTA_LC'][dados['NU_NOTA_LC'] != 0].median()\n",
        "# print('Zeros:{0}\\nMedia:{1}\\nMediana:{2}'.format(lc_count_zero, lc_mean, lc_mediana))"
      ],
      "execution_count": 0,
      "outputs": []
    },
    {
      "cell_type": "code",
      "metadata": {
        "id": "QCtsAsdiSIYW",
        "colab_type": "code",
        "outputId": "a6074deb-ce4c-462e-c450-9244586b2638",
        "colab": {
          "base_uri": "https://localhost:8080/",
          "height": 71
        }
      },
      "source": [
        "mt_count_zero = dados['NU_NOTA_MT'][dados['NU_NOTA_MT'] == 0].count()\n",
        "mt_mean = dados['NU_NOTA_MT'][dados['NU_NOTA_MT'] != 0].mean()\n",
        "mt_mediana = dados['NU_NOTA_MT'][dados['NU_NOTA_MT'] != 0].median()\n",
        "print('Zeros:{0}\\nMedia:{1}\\nMediana:{2}'.format(mt_count_zero, mt_mean, mt_mediana))"
      ],
      "execution_count": 12,
      "outputs": [
        {
          "output_type": "stream",
          "text": [
            "Zeros:19\n",
            "Media:535.555988939884\n",
            "Mediana:516.7\n"
          ],
          "name": "stdout"
        }
      ]
    },
    {
      "cell_type": "code",
      "metadata": {
        "id": "uUb3bcvABb8f",
        "colab_type": "code",
        "outputId": "1e7fd2cb-10de-429c-d5a1-9b081e6d1437",
        "colab": {
          "base_uri": "https://localhost:8080/",
          "height": 71
        }
      },
      "source": [
        "red_count_zero = dados['NU_NOTA_REDACAO'][dados['NU_NOTA_REDACAO'] == 0].count()\n",
        "red_mean = dados['NU_NOTA_REDACAO'][dados['NU_NOTA_REDACAO'] != 0].mean()\n",
        "red_mediana = dados['NU_NOTA_REDACAO'][dados['NU_NOTA_REDACAO'] != 0].median()\n",
        "print('Zeros:{0}\\nMedia:{1}\\nMediana:{2}'.format(red_count_zero, red_mean, red_mediana))"
      ],
      "execution_count": 13,
      "outputs": [
        {
          "output_type": "stream",
          "text": [
            "Zeros:3493\n",
            "Media:527.0940386532617\n",
            "Mediana:520.0\n"
          ],
          "name": "stdout"
        }
      ]
    },
    {
      "cell_type": "code",
      "metadata": {
        "id": "Q8oAWCy0_No3",
        "colab_type": "code",
        "colab": {}
      },
      "source": [
        "from sklearn.model_selection import train_test_split\n",
        "\n",
        "coluna_label = 'NU_NOTA_LC'\n",
        "coluna_features = ['NU_NOTA_CN', 'NU_NOTA_CH', 'NU_NOTA_MT', 'NU_NOTA_REDACAO']\n",
        "\n",
        "X = dados[coluna_features]\n",
        "Y = dados[coluna_label]\n",
        "\n",
        "\n",
        "X_treino, X_teste, Y_treino, Y_teste = train_test_split(X, Y, train_size=0.8, test_size=0.2, random_state=1)\n"
      ],
      "execution_count": 0,
      "outputs": []
    },
    {
      "cell_type": "markdown",
      "metadata": {
        "id": "Mn7s5WHvxHGs",
        "colab_type": "text"
      },
      "source": [
        "# Imputando dados nos datasets de treino e teste"
      ]
    },
    {
      "cell_type": "code",
      "metadata": {
        "id": "gtgCTtmwxDDB",
        "colab_type": "code",
        "outputId": "a2990510-7bc5-45cc-aad0-0a0f6bd0c223",
        "colab": {
          "base_uri": "https://localhost:8080/",
          "height": 647
        }
      },
      "source": [
        "X_treino.loc[X_treino['NU_NOTA_CN'] == 0, 'NU_NOTA_CN'] = X_treino['NU_NOTA_CN'].mean()\n",
        "X_treino.loc[X_treino['NU_NOTA_CH'] == 0, 'NU_NOTA_CH'] = X_treino['NU_NOTA_CH'].mean()\n",
        "X_treino.loc[X_treino['NU_NOTA_MT'] == 0, 'NU_NOTA_MT'] = X_treino['NU_NOTA_MT'].mean()\n",
        "#X_treino.loc[X_treino['NU_NOTA_REDACAO'] == 0, 'NU_NOTA_REDACAO'] = X_treino['NU_NOTA_REDACAO'].median()\n",
        "\n",
        "\n",
        "X_teste.loc[X_teste['NU_NOTA_CN'] == 0, 'NU_NOTA_CN'] = X_teste['NU_NOTA_CN'].mean()\n",
        "X_teste.loc[X_teste['NU_NOTA_CH'] == 0, 'NU_NOTA_CH'] = X_teste['NU_NOTA_CH'].mean()\n",
        "X_teste.loc[X_teste['NU_NOTA_MT'] == 0, 'NU_NOTA_MT'] = X_teste['NU_NOTA_MT'].mean()\n",
        "#X_teste.loc[X_teste['NU_NOTA_REDACAO'] == 0, 'NU_NOTA_REDACAO'] = X_teste['NU_NOTA_REDACAO'].median()"
      ],
      "execution_count": 15,
      "outputs": [
        {
          "output_type": "stream",
          "text": [
            "/usr/local/lib/python3.6/dist-packages/pandas/core/indexing.py:671: SettingWithCopyWarning: \n",
            "A value is trying to be set on a copy of a slice from a DataFrame\n",
            "\n",
            "See the caveats in the documentation: https://pandas.pydata.org/pandas-docs/stable/user_guide/indexing.html#returning-a-view-versus-a-copy\n",
            "  self._setitem_with_indexer(indexer, value)\n",
            "/usr/local/lib/python3.6/dist-packages/ipykernel_launcher.py:1: SettingWithCopyWarning: \n",
            "A value is trying to be set on a copy of a slice from a DataFrame\n",
            "\n",
            "See the caveats in the documentation: https://pandas.pydata.org/pandas-docs/stable/user_guide/indexing.html#returning-a-view-versus-a-copy\n",
            "  \"\"\"Entry point for launching an IPython kernel.\n",
            "/usr/local/lib/python3.6/dist-packages/ipykernel_launcher.py:2: SettingWithCopyWarning: \n",
            "A value is trying to be set on a copy of a slice from a DataFrame\n",
            "\n",
            "See the caveats in the documentation: https://pandas.pydata.org/pandas-docs/stable/user_guide/indexing.html#returning-a-view-versus-a-copy\n",
            "  \n",
            "/usr/local/lib/python3.6/dist-packages/ipykernel_launcher.py:3: SettingWithCopyWarning: \n",
            "A value is trying to be set on a copy of a slice from a DataFrame\n",
            "\n",
            "See the caveats in the documentation: https://pandas.pydata.org/pandas-docs/stable/user_guide/indexing.html#returning-a-view-versus-a-copy\n",
            "  This is separate from the ipykernel package so we can avoid doing imports until\n",
            "/usr/local/lib/python3.6/dist-packages/ipykernel_launcher.py:7: SettingWithCopyWarning: \n",
            "A value is trying to be set on a copy of a slice from a DataFrame\n",
            "\n",
            "See the caveats in the documentation: https://pandas.pydata.org/pandas-docs/stable/user_guide/indexing.html#returning-a-view-versus-a-copy\n",
            "  import sys\n",
            "/usr/local/lib/python3.6/dist-packages/ipykernel_launcher.py:8: SettingWithCopyWarning: \n",
            "A value is trying to be set on a copy of a slice from a DataFrame\n",
            "\n",
            "See the caveats in the documentation: https://pandas.pydata.org/pandas-docs/stable/user_guide/indexing.html#returning-a-view-versus-a-copy\n",
            "  \n",
            "/usr/local/lib/python3.6/dist-packages/ipykernel_launcher.py:9: SettingWithCopyWarning: \n",
            "A value is trying to be set on a copy of a slice from a DataFrame\n",
            "\n",
            "See the caveats in the documentation: https://pandas.pydata.org/pandas-docs/stable/user_guide/indexing.html#returning-a-view-versus-a-copy\n",
            "  if __name__ == '__main__':\n"
          ],
          "name": "stderr"
        }
      ]
    },
    {
      "cell_type": "code",
      "metadata": {
        "id": "vUns5xTPygvc",
        "colab_type": "code",
        "outputId": "fb2f4a79-25aa-4f05-91f5-0b7040639b60",
        "colab": {
          "base_uri": "https://localhost:8080/",
          "height": 419
        }
      },
      "source": [
        "X_teste.loc[X_teste['NU_NOTA_REDACAO'] == 0]"
      ],
      "execution_count": 16,
      "outputs": [
        {
          "output_type": "execute_result",
          "data": {
            "text/html": [
              "<div>\n",
              "<style scoped>\n",
              "    .dataframe tbody tr th:only-of-type {\n",
              "        vertical-align: middle;\n",
              "    }\n",
              "\n",
              "    .dataframe tbody tr th {\n",
              "        vertical-align: top;\n",
              "    }\n",
              "\n",
              "    .dataframe thead th {\n",
              "        text-align: right;\n",
              "    }\n",
              "</style>\n",
              "<table border=\"1\" class=\"dataframe\">\n",
              "  <thead>\n",
              "    <tr style=\"text-align: right;\">\n",
              "      <th></th>\n",
              "      <th>NU_NOTA_CN</th>\n",
              "      <th>NU_NOTA_CH</th>\n",
              "      <th>NU_NOTA_MT</th>\n",
              "      <th>NU_NOTA_REDACAO</th>\n",
              "    </tr>\n",
              "  </thead>\n",
              "  <tbody>\n",
              "    <tr>\n",
              "      <th>65043</th>\n",
              "      <td>423.8</td>\n",
              "      <td>450.6</td>\n",
              "      <td>455.8</td>\n",
              "      <td>0.0</td>\n",
              "    </tr>\n",
              "    <tr>\n",
              "      <th>35084</th>\n",
              "      <td>451.0</td>\n",
              "      <td>415.5</td>\n",
              "      <td>512.8</td>\n",
              "      <td>0.0</td>\n",
              "    </tr>\n",
              "    <tr>\n",
              "      <th>1987</th>\n",
              "      <td>569.4</td>\n",
              "      <td>447.2</td>\n",
              "      <td>393.9</td>\n",
              "      <td>0.0</td>\n",
              "    </tr>\n",
              "    <tr>\n",
              "      <th>108217</th>\n",
              "      <td>398.4</td>\n",
              "      <td>402.5</td>\n",
              "      <td>417.7</td>\n",
              "      <td>0.0</td>\n",
              "    </tr>\n",
              "    <tr>\n",
              "      <th>4647</th>\n",
              "      <td>385.8</td>\n",
              "      <td>456.0</td>\n",
              "      <td>453.8</td>\n",
              "      <td>0.0</td>\n",
              "    </tr>\n",
              "    <tr>\n",
              "      <th>...</th>\n",
              "      <td>...</td>\n",
              "      <td>...</td>\n",
              "      <td>...</td>\n",
              "      <td>...</td>\n",
              "    </tr>\n",
              "    <tr>\n",
              "      <th>418</th>\n",
              "      <td>453.7</td>\n",
              "      <td>466.1</td>\n",
              "      <td>419.9</td>\n",
              "      <td>0.0</td>\n",
              "    </tr>\n",
              "    <tr>\n",
              "      <th>47822</th>\n",
              "      <td>385.0</td>\n",
              "      <td>564.0</td>\n",
              "      <td>438.4</td>\n",
              "      <td>0.0</td>\n",
              "    </tr>\n",
              "    <tr>\n",
              "      <th>53607</th>\n",
              "      <td>476.1</td>\n",
              "      <td>563.3</td>\n",
              "      <td>454.4</td>\n",
              "      <td>0.0</td>\n",
              "    </tr>\n",
              "    <tr>\n",
              "      <th>127432</th>\n",
              "      <td>574.0</td>\n",
              "      <td>588.6</td>\n",
              "      <td>404.6</td>\n",
              "      <td>0.0</td>\n",
              "    </tr>\n",
              "    <tr>\n",
              "      <th>18444</th>\n",
              "      <td>444.6</td>\n",
              "      <td>589.0</td>\n",
              "      <td>410.2</td>\n",
              "      <td>0.0</td>\n",
              "    </tr>\n",
              "  </tbody>\n",
              "</table>\n",
              "<p>704 rows × 4 columns</p>\n",
              "</div>"
            ],
            "text/plain": [
              "        NU_NOTA_CN  NU_NOTA_CH  NU_NOTA_MT  NU_NOTA_REDACAO\n",
              "65043        423.8       450.6       455.8              0.0\n",
              "35084        451.0       415.5       512.8              0.0\n",
              "1987         569.4       447.2       393.9              0.0\n",
              "108217       398.4       402.5       417.7              0.0\n",
              "4647         385.8       456.0       453.8              0.0\n",
              "...            ...         ...         ...              ...\n",
              "418          453.7       466.1       419.9              0.0\n",
              "47822        385.0       564.0       438.4              0.0\n",
              "53607        476.1       563.3       454.4              0.0\n",
              "127432       574.0       588.6       404.6              0.0\n",
              "18444        444.6       589.0       410.2              0.0\n",
              "\n",
              "[704 rows x 4 columns]"
            ]
          },
          "metadata": {
            "tags": []
          },
          "execution_count": 16
        }
      ]
    },
    {
      "cell_type": "code",
      "metadata": {
        "id": "9wbWpqZgjLx4",
        "colab_type": "code",
        "colab": {}
      },
      "source": [
        "# coluna_label = 'NU_NOTA_LC'\n",
        "# coluna_features = ['NU_NOTA_CN', 'NU_NOTA_CH', 'NU_NOTA_MT', 'NU_NOTA_REDACAO']\n",
        "\n",
        "# X_treino = dados_treino[coluna_features].to_numpy()\n",
        "# Y_treino = dados_treino[coluna_label].to_numpy()\n",
        "# X_teste = dados_teste[coluna_features].to_numpy()\n",
        "# Y_teste = dados_teste[coluna_label].to_numpy()\n"
      ],
      "execution_count": 0,
      "outputs": []
    },
    {
      "cell_type": "markdown",
      "metadata": {
        "id": "_ewf2Px98qBH",
        "colab_type": "text"
      },
      "source": [
        "A seguir criamos um modelo **Dummy** como exemplo e realizamos a avaliação do modelo com o **mean_squared_error**. \n",
        "\n",
        "Você pode usar qualquer algoritmo ou biblioteca para criar seus modelos, mas garanta que fará a avaliação com o mean_squared_error, pois usaremos essa métrica para avaliar sua predição final."
      ]
    },
    {
      "cell_type": "code",
      "metadata": {
        "id": "n0Vz5ZeEli8m",
        "colab_type": "code",
        "outputId": "186fb66f-e4df-4e95-a143-e2a6b3b76b61",
        "colab": {
          "base_uri": "https://localhost:8080/",
          "height": 35
        }
      },
      "source": [
        "#Exemplo de classificação com Dummy\n",
        "from sklearn.dummy import DummyRegressor\n",
        "from sklearn.metrics import mean_squared_error\n",
        "\n",
        "modelo_dummy = DummyRegressor()\n",
        "modelo_dummy.fit(X_treino, Y_treino)\n",
        "dummy_predicoes = modelo_dummy.predict(X_teste)\n",
        "\n",
        "avaliacao_dummy = mean_squared_error(Y_teste, dummy_predicoes)\n",
        "\n",
        "print(f\"Minha avaliação nos dados de teste foi de {avaliacao_dummy}\")"
      ],
      "execution_count": 17,
      "outputs": [
        {
          "output_type": "stream",
          "text": [
            "Minha avaliação nos dados de teste foi de 5190.8636971852075\n"
          ],
          "name": "stdout"
        }
      ]
    },
    {
      "cell_type": "markdown",
      "metadata": {
        "id": "7KTYF7ntCbWQ",
        "colab_type": "text"
      },
      "source": [
        "Depois que você criou testou e validou seu modelo, chegou a hora de preparar seu arquivo para a submissão do resultado.\n",
        "\n",
        "No código abaixo, estamos realizando a predição das notas de **linguagem e códigos** do dataset **dados_desafioqt**. Feita a previsão, criamos um dataframe novo para a submissão, primeiro crimos a coluna **ID** e adicionamos a coluna **NU_NOTA_LC** com suas respectivas previsões (repare que nosso modelo não alterou as ordens dos ID's, mas se você utilizar algum modelo que embaralhe essa ordem certifique de colocar a previsão correta para o ID correto).\n",
        "\n",
        "Após isso, salvamos o dataframe com ´.to_csv()´ (**importante, passe o parâmetro index=False para `.to_csv()`, caso contrário nosso script não computará sua nota**) no arquivo **PREDICAO_DESAFIOQT.csv (você precisa submeter o arquivo com esse nome, caso contrário nosso script de avaliação não computará sua nota**)  e utilizamos o `files.download` para baixar o arquivo em sua máquina local.\n",
        "\n",
        "Feito tudo isso você está quase pronto para finalizar e submeter seu resultado. Você já baixou os dados, treinou e validou seu modelo, salvou sua previsão **no padrão ideal para submissão** e já está com o modelo baixado em sua máquina. Entretanto, ainda falta um detalhe: no momento de preencher o **forms** você precisa enviar seu código. Caso esteja usando os notebooks do colab siga as seguintes instruções para o download:\n",
        "\n",
        "- Clique em **File** na parte superior esquerda.\n",
        "- Depois selecione a opção **Download .ipynb** (também aceitaremos o .py caso você prefira desenvolver seu projeto em um arquivo python).\n",
        "\n",
        "\n",
        "Pronto agora é só submeter seu resultado e torcer para levar um **Nintendo Switch** para casa.\n",
        "\n",
        "Boa sorte!"
      ]
    },
    {
      "cell_type": "code",
      "metadata": {
        "id": "F5_zbGU1EQm4",
        "colab_type": "code",
        "colab": {}
      },
      "source": [
        "#atribuir ao MODELO o nome do seu melhor modelo\n",
        "from google.colab import files\n",
        "\n",
        "MODELO = modelo_dummy\n",
        "X_desafioqt = dados_desafioqt[coluna_features].to_numpy()\n",
        "predicao_desafioqt = MODELO.predict(X_desafioqt)\n",
        "\n",
        "\n",
        "desafio_df = pd.DataFrame(dados_desafioqt.ID)\n",
        "desafio_df[coluna_label] = predicao_desafioqt\n",
        "\n",
        "#NÃO TROCAR O NOME DO ARQUIVO DE SAÍDA (PREDICAO_DESAFIO)\n",
        "desafio_df.to_csv('PREDICAO_DESAFIOQT.csv', index=False) \n",
        "files.download('PREDICAO_DESAFIOQT.csv')\n",
        "\n"
      ],
      "execution_count": 0,
      "outputs": []
    },
    {
      "cell_type": "code",
      "metadata": {
        "id": "K4jB-Uej3IAr",
        "colab_type": "code",
        "outputId": "b3059a43-5b0b-42d9-921f-cdb277740ee8",
        "colab": {
          "base_uri": "https://localhost:8080/",
          "height": 204
        }
      },
      "source": [
        "dados_treino.head()"
      ],
      "execution_count": 19,
      "outputs": [
        {
          "output_type": "execute_result",
          "data": {
            "text/html": [
              "<div>\n",
              "<style scoped>\n",
              "    .dataframe tbody tr th:only-of-type {\n",
              "        vertical-align: middle;\n",
              "    }\n",
              "\n",
              "    .dataframe tbody tr th {\n",
              "        vertical-align: top;\n",
              "    }\n",
              "\n",
              "    .dataframe thead th {\n",
              "        text-align: right;\n",
              "    }\n",
              "</style>\n",
              "<table border=\"1\" class=\"dataframe\">\n",
              "  <thead>\n",
              "    <tr style=\"text-align: right;\">\n",
              "      <th></th>\n",
              "      <th>NU_NOTA_CN</th>\n",
              "      <th>NU_NOTA_CH</th>\n",
              "      <th>NU_NOTA_LC</th>\n",
              "      <th>NU_NOTA_MT</th>\n",
              "      <th>NU_NOTA_REDACAO</th>\n",
              "    </tr>\n",
              "  </thead>\n",
              "  <tbody>\n",
              "    <tr>\n",
              "      <th>0</th>\n",
              "      <td>530.7</td>\n",
              "      <td>586.5</td>\n",
              "      <td>575.9</td>\n",
              "      <td>539.0</td>\n",
              "      <td>520.0</td>\n",
              "    </tr>\n",
              "    <tr>\n",
              "      <th>1</th>\n",
              "      <td>439.4</td>\n",
              "      <td>577.9</td>\n",
              "      <td>440.9</td>\n",
              "      <td>488.7</td>\n",
              "      <td>380.0</td>\n",
              "    </tr>\n",
              "    <tr>\n",
              "      <th>2</th>\n",
              "      <td>414.1</td>\n",
              "      <td>548.8</td>\n",
              "      <td>417.2</td>\n",
              "      <td>382.6</td>\n",
              "      <td>600.0</td>\n",
              "    </tr>\n",
              "    <tr>\n",
              "      <th>3</th>\n",
              "      <td>407.9</td>\n",
              "      <td>572.7</td>\n",
              "      <td>558.9</td>\n",
              "      <td>595.4</td>\n",
              "      <td>560.0</td>\n",
              "    </tr>\n",
              "    <tr>\n",
              "      <th>4</th>\n",
              "      <td>617.2</td>\n",
              "      <td>655.7</td>\n",
              "      <td>564.2</td>\n",
              "      <td>660.9</td>\n",
              "      <td>540.0</td>\n",
              "    </tr>\n",
              "  </tbody>\n",
              "</table>\n",
              "</div>"
            ],
            "text/plain": [
              "   NU_NOTA_CN  NU_NOTA_CH  NU_NOTA_LC  NU_NOTA_MT  NU_NOTA_REDACAO\n",
              "0       530.7       586.5       575.9       539.0            520.0\n",
              "1       439.4       577.9       440.9       488.7            380.0\n",
              "2       414.1       548.8       417.2       382.6            600.0\n",
              "3       407.9       572.7       558.9       595.4            560.0\n",
              "4       617.2       655.7       564.2       660.9            540.0"
            ]
          },
          "metadata": {
            "tags": []
          },
          "execution_count": 19
        }
      ]
    },
    {
      "cell_type": "code",
      "metadata": {
        "id": "7p2XhttK3ShM",
        "colab_type": "code",
        "outputId": "5fbe26a9-16b6-4e2d-ccbb-389c88a083d2",
        "colab": {
          "base_uri": "https://localhost:8080/",
          "height": 204
        }
      },
      "source": [
        "dados_teste.head()"
      ],
      "execution_count": 20,
      "outputs": [
        {
          "output_type": "execute_result",
          "data": {
            "text/html": [
              "<div>\n",
              "<style scoped>\n",
              "    .dataframe tbody tr th:only-of-type {\n",
              "        vertical-align: middle;\n",
              "    }\n",
              "\n",
              "    .dataframe tbody tr th {\n",
              "        vertical-align: top;\n",
              "    }\n",
              "\n",
              "    .dataframe thead th {\n",
              "        text-align: right;\n",
              "    }\n",
              "</style>\n",
              "<table border=\"1\" class=\"dataframe\">\n",
              "  <thead>\n",
              "    <tr style=\"text-align: right;\">\n",
              "      <th></th>\n",
              "      <th>NU_NOTA_CN</th>\n",
              "      <th>NU_NOTA_CH</th>\n",
              "      <th>NU_NOTA_LC</th>\n",
              "      <th>NU_NOTA_MT</th>\n",
              "      <th>NU_NOTA_REDACAO</th>\n",
              "    </tr>\n",
              "  </thead>\n",
              "  <tbody>\n",
              "    <tr>\n",
              "      <th>0</th>\n",
              "      <td>468.6</td>\n",
              "      <td>579.2</td>\n",
              "      <td>550.0</td>\n",
              "      <td>605.0</td>\n",
              "      <td>540.0</td>\n",
              "    </tr>\n",
              "    <tr>\n",
              "      <th>1</th>\n",
              "      <td>463.5</td>\n",
              "      <td>442.6</td>\n",
              "      <td>406.3</td>\n",
              "      <td>413.8</td>\n",
              "      <td>440.0</td>\n",
              "    </tr>\n",
              "    <tr>\n",
              "      <th>2</th>\n",
              "      <td>593.3</td>\n",
              "      <td>717.3</td>\n",
              "      <td>652.3</td>\n",
              "      <td>693.6</td>\n",
              "      <td>980.0</td>\n",
              "    </tr>\n",
              "    <tr>\n",
              "      <th>3</th>\n",
              "      <td>426.0</td>\n",
              "      <td>603.6</td>\n",
              "      <td>469.1</td>\n",
              "      <td>455.2</td>\n",
              "      <td>380.0</td>\n",
              "    </tr>\n",
              "    <tr>\n",
              "      <th>4</th>\n",
              "      <td>537.8</td>\n",
              "      <td>601.6</td>\n",
              "      <td>580.5</td>\n",
              "      <td>502.0</td>\n",
              "      <td>620.0</td>\n",
              "    </tr>\n",
              "  </tbody>\n",
              "</table>\n",
              "</div>"
            ],
            "text/plain": [
              "   NU_NOTA_CN  NU_NOTA_CH  NU_NOTA_LC  NU_NOTA_MT  NU_NOTA_REDACAO\n",
              "0       468.6       579.2       550.0       605.0            540.0\n",
              "1       463.5       442.6       406.3       413.8            440.0\n",
              "2       593.3       717.3       652.3       693.6            980.0\n",
              "3       426.0       603.6       469.1       455.2            380.0\n",
              "4       537.8       601.6       580.5       502.0            620.0"
            ]
          },
          "metadata": {
            "tags": []
          },
          "execution_count": 20
        }
      ]
    },
    {
      "cell_type": "code",
      "metadata": {
        "id": "V03FqDOL3TAx",
        "colab_type": "code",
        "outputId": "98dd96b1-855c-4175-9a38-fe980ac3a1a7",
        "colab": {
          "base_uri": "https://localhost:8080/",
          "height": 204
        }
      },
      "source": [
        "dados_desafioqt.head()"
      ],
      "execution_count": 21,
      "outputs": [
        {
          "output_type": "execute_result",
          "data": {
            "text/html": [
              "<div>\n",
              "<style scoped>\n",
              "    .dataframe tbody tr th:only-of-type {\n",
              "        vertical-align: middle;\n",
              "    }\n",
              "\n",
              "    .dataframe tbody tr th {\n",
              "        vertical-align: top;\n",
              "    }\n",
              "\n",
              "    .dataframe thead th {\n",
              "        text-align: right;\n",
              "    }\n",
              "</style>\n",
              "<table border=\"1\" class=\"dataframe\">\n",
              "  <thead>\n",
              "    <tr style=\"text-align: right;\">\n",
              "      <th></th>\n",
              "      <th>ID</th>\n",
              "      <th>NU_NOTA_CN</th>\n",
              "      <th>NU_NOTA_CH</th>\n",
              "      <th>NU_NOTA_MT</th>\n",
              "      <th>NU_NOTA_REDACAO</th>\n",
              "    </tr>\n",
              "  </thead>\n",
              "  <tbody>\n",
              "    <tr>\n",
              "      <th>0</th>\n",
              "      <td>0</td>\n",
              "      <td>496.1</td>\n",
              "      <td>585.3</td>\n",
              "      <td>495.8</td>\n",
              "      <td>320.0</td>\n",
              "    </tr>\n",
              "    <tr>\n",
              "      <th>1</th>\n",
              "      <td>1</td>\n",
              "      <td>558.5</td>\n",
              "      <td>641.9</td>\n",
              "      <td>515.9</td>\n",
              "      <td>600.0</td>\n",
              "    </tr>\n",
              "    <tr>\n",
              "      <th>2</th>\n",
              "      <td>2</td>\n",
              "      <td>493.1</td>\n",
              "      <td>566.6</td>\n",
              "      <td>512.0</td>\n",
              "      <td>520.0</td>\n",
              "    </tr>\n",
              "    <tr>\n",
              "      <th>3</th>\n",
              "      <td>3</td>\n",
              "      <td>410.9</td>\n",
              "      <td>534.4</td>\n",
              "      <td>437.6</td>\n",
              "      <td>340.0</td>\n",
              "    </tr>\n",
              "    <tr>\n",
              "      <th>4</th>\n",
              "      <td>4</td>\n",
              "      <td>453.5</td>\n",
              "      <td>577.9</td>\n",
              "      <td>545.8</td>\n",
              "      <td>580.0</td>\n",
              "    </tr>\n",
              "  </tbody>\n",
              "</table>\n",
              "</div>"
            ],
            "text/plain": [
              "   ID  NU_NOTA_CN  NU_NOTA_CH  NU_NOTA_MT  NU_NOTA_REDACAO\n",
              "0   0       496.1       585.3       495.8            320.0\n",
              "1   1       558.5       641.9       515.9            600.0\n",
              "2   2       493.1       566.6       512.0            520.0\n",
              "3   3       410.9       534.4       437.6            340.0\n",
              "4   4       453.5       577.9       545.8            580.0"
            ]
          },
          "metadata": {
            "tags": []
          },
          "execution_count": 21
        }
      ]
    },
    {
      "cell_type": "markdown",
      "metadata": {
        "id": "Qe_U_l1e4KH8",
        "colab_type": "text"
      },
      "source": [
        "# Modelo 1 - Decision Tree"
      ]
    },
    {
      "cell_type": "code",
      "metadata": {
        "id": "8Qg6udr33cQD",
        "colab_type": "code",
        "colab": {}
      },
      "source": [
        "from sklearn.tree import DecisionTreeRegressor\n",
        "\n",
        "modelo_decision_tree = DecisionTreeRegressor(random_state=1)"
      ],
      "execution_count": 0,
      "outputs": []
    },
    {
      "cell_type": "code",
      "metadata": {
        "id": "yvN74qvU4k9h",
        "colab_type": "code",
        "outputId": "f3000980-7476-4834-e0da-77d448209a45",
        "colab": {
          "base_uri": "https://localhost:8080/",
          "height": 125
        }
      },
      "source": [
        "modelo_decision_tree.fit(X_treino, Y_treino)"
      ],
      "execution_count": 23,
      "outputs": [
        {
          "output_type": "execute_result",
          "data": {
            "text/plain": [
              "DecisionTreeRegressor(ccp_alpha=0.0, criterion='mse', max_depth=None,\n",
              "                      max_features=None, max_leaf_nodes=None,\n",
              "                      min_impurity_decrease=0.0, min_impurity_split=None,\n",
              "                      min_samples_leaf=1, min_samples_split=2,\n",
              "                      min_weight_fraction_leaf=0.0, presort='deprecated',\n",
              "                      random_state=1, splitter='best')"
            ]
          },
          "metadata": {
            "tags": []
          },
          "execution_count": 23
        }
      ]
    },
    {
      "cell_type": "code",
      "metadata": {
        "id": "LFE9PfCa44wA",
        "colab_type": "code",
        "outputId": "b1b06116-4afd-4018-e466-b614a03ab9db",
        "colab": {
          "base_uri": "https://localhost:8080/",
          "height": 35
        }
      },
      "source": [
        "predicao_decision_tree = modelo_decision_tree.predict(X_teste)\n",
        "\n",
        "avaliacao__decision_tree = mean_squared_error(Y_teste, predicao_decision_tree)\n",
        "\n",
        "print(f\"Avaliação nos dados de teste para o modelo de Árvore de decisão foi de {avaliacao__decision_tree}\")"
      ],
      "execution_count": 24,
      "outputs": [
        {
          "output_type": "stream",
          "text": [
            "Avaliação nos dados de teste para o modelo de Árvore de decisão foi de 4242.919370588234\n"
          ],
          "name": "stdout"
        }
      ]
    },
    {
      "cell_type": "markdown",
      "metadata": {
        "id": "GPC8H04L58VO",
        "colab_type": "text"
      },
      "source": [
        "### Testando outros parâmetros para esse modelo"
      ]
    },
    {
      "cell_type": "code",
      "metadata": {
        "id": "KEL5dTlk570h",
        "colab_type": "code",
        "colab": {}
      },
      "source": [
        "def get_mse(max_leaf_nodes, X_treino, X_teste, Y_treino, Y_teste):\n",
        "  modelo_decision_tree = DecisionTreeRegressor(random_state=1, max_leaf_nodes=max_leaf_nodes)\n",
        "  modelo_decision_tree.fit(X_treino, Y_treino)\n",
        "  predicao_decision_tree = modelo_decision_tree.predict(X_teste)\n",
        "  avaliacao__decision_tree = mean_squared_error(Y_teste, predicao_decision_tree)\n",
        "  return avaliacao__decision_tree\n"
      ],
      "execution_count": 0,
      "outputs": []
    },
    {
      "cell_type": "code",
      "metadata": {
        "id": "1D7wJ4hC5iHy",
        "colab_type": "code",
        "outputId": "a3f06d43-fd5b-4595-e038-070c826c59b6",
        "colab": {
          "base_uri": "https://localhost:8080/",
          "height": 35
        }
      },
      "source": [
        "get_mse(50, X_treino, X_teste, Y_treino, Y_teste)"
      ],
      "execution_count": 26,
      "outputs": [
        {
          "output_type": "execute_result",
          "data": {
            "text/plain": [
              "2143.485977245864"
            ]
          },
          "metadata": {
            "tags": []
          },
          "execution_count": 26
        }
      ]
    },
    {
      "cell_type": "markdown",
      "metadata": {
        "id": "cwYuNDUD7WEE",
        "colab_type": "text"
      },
      "source": [
        "Testando o modelo para diferentes quantidades de nós"
      ]
    },
    {
      "cell_type": "code",
      "metadata": {
        "id": "npSIbZ7x7VRY",
        "colab_type": "code",
        "outputId": "4e2d5178-4d6a-4723-c200-8a44e2d91eab",
        "colab": {
          "base_uri": "https://localhost:8080/",
          "height": 161
        }
      },
      "source": [
        "for max_leaf_nodes in [5, 10, 25, 50, 100, 200, 500, 1000]:\n",
        "  mse = get_mse(max_leaf_nodes, X_treino, X_teste, Y_treino, Y_teste)\n",
        "  print('Quantidade de nós: {0}      MSE: {1}'.format(max_leaf_nodes, mse))"
      ],
      "execution_count": 27,
      "outputs": [
        {
          "output_type": "stream",
          "text": [
            "Quantidade de nós: 5      MSE: 2520.318293408387\n",
            "Quantidade de nós: 10      MSE: 2322.52427568272\n",
            "Quantidade de nós: 25      MSE: 2191.9540789281577\n",
            "Quantidade de nós: 50      MSE: 2143.485977245864\n",
            "Quantidade de nós: 100      MSE: 2119.3123703567994\n",
            "Quantidade de nós: 200      MSE: 2104.6400396454455\n",
            "Quantidade de nós: 500      MSE: 2128.5727739897743\n",
            "Quantidade de nós: 1000      MSE: 2187.3146050236483\n"
          ],
          "name": "stdout"
        }
      ]
    },
    {
      "cell_type": "markdown",
      "metadata": {
        "id": "GhODpKnGDvD4",
        "colab_type": "text"
      },
      "source": [
        "### Para o modelo de Arvore de decisão acima a melhor performance ocorreu com 200 nós"
      ]
    },
    {
      "cell_type": "markdown",
      "metadata": {
        "id": "0s6Lo_0kFQao",
        "colab_type": "text"
      },
      "source": [
        "# Modelo 2 - Random Forest"
      ]
    },
    {
      "cell_type": "code",
      "metadata": {
        "id": "q720-cwHD5I7",
        "colab_type": "code",
        "outputId": "9053762a-61ff-475a-af01-4b3391e33be8",
        "colab": {
          "base_uri": "https://localhost:8080/",
          "height": 143
        }
      },
      "source": [
        "from sklearn.ensemble import RandomForestRegressor\n",
        "\n",
        "modelo_random_forest = RandomForestRegressor(random_state=1)\n",
        "\n",
        "modelo_random_forest.fit(X_treino, Y_treino)"
      ],
      "execution_count": 28,
      "outputs": [
        {
          "output_type": "execute_result",
          "data": {
            "text/plain": [
              "RandomForestRegressor(bootstrap=True, ccp_alpha=0.0, criterion='mse',\n",
              "                      max_depth=None, max_features='auto', max_leaf_nodes=None,\n",
              "                      max_samples=None, min_impurity_decrease=0.0,\n",
              "                      min_impurity_split=None, min_samples_leaf=1,\n",
              "                      min_samples_split=2, min_weight_fraction_leaf=0.0,\n",
              "                      n_estimators=100, n_jobs=None, oob_score=False,\n",
              "                      random_state=1, verbose=0, warm_start=False)"
            ]
          },
          "metadata": {
            "tags": []
          },
          "execution_count": 28
        }
      ]
    },
    {
      "cell_type": "code",
      "metadata": {
        "id": "dM4V6ti8FUnZ",
        "colab_type": "code",
        "outputId": "90bf1982-6e16-4e3f-97bf-8d45b743d59f",
        "colab": {
          "base_uri": "https://localhost:8080/",
          "height": 35
        }
      },
      "source": [
        "predicao_random_forest = modelo_random_forest.predict(X_teste)\n",
        "\n",
        "avaliacao_random_forest = mean_squared_error(Y_teste, predicao_random_forest)\n",
        "\n",
        "print(f\"Avaliação nos dados de teste para o modelo de Árvore de decisão foi de {avaliacao_random_forest}\")"
      ],
      "execution_count": 29,
      "outputs": [
        {
          "output_type": "stream",
          "text": [
            "Avaliação nos dados de teste para o modelo de Árvore de decisão foi de 2180.957628821029\n"
          ],
          "name": "stdout"
        }
      ]
    },
    {
      "cell_type": "markdown",
      "metadata": {
        "id": "vi3iciI6J2t-",
        "colab_type": "text"
      },
      "source": [
        "### Testando outros parametros"
      ]
    },
    {
      "cell_type": "code",
      "metadata": {
        "id": "WRnDHEhuFyu-",
        "colab_type": "code",
        "colab": {}
      },
      "source": [
        "modelo_random_forest_1 = RandomForestRegressor(n_estimators=50, random_state=0)\n",
        "modelo_random_forest_2 = RandomForestRegressor(n_estimators=100, random_state=0)\n",
        "modelo_random_forest_3 = RandomForestRegressor(n_estimators=100, min_samples_split=20, random_state=0)\n",
        "modelo_random_forest_4 = RandomForestRegressor(n_estimators=200, min_samples_split=20, random_state=0)\n",
        "modelo_random_forest_5 = RandomForestRegressor(n_estimators=100, max_depth=5, random_state=0)\n",
        "modelo_random_forest_6 = RandomForestRegressor(n_estimators=200, max_depth=5, random_state=0)\n",
        "\n",
        "modelos_rf = [modelo_random_forest_1, modelo_random_forest_2, modelo_random_forest_3, modelo_random_forest_4, modelo_random_forest_5, modelo_random_forest_6]"
      ],
      "execution_count": 0,
      "outputs": []
    },
    {
      "cell_type": "code",
      "metadata": {
        "id": "3Iu-Aq7RKS1E",
        "colab_type": "code",
        "outputId": "b08efb7e-a10f-484f-a7f1-cbc83d9cf580",
        "colab": {
          "base_uri": "https://localhost:8080/",
          "height": 125
        }
      },
      "source": [
        "def avaliacao(modelo, X_treino, X_teste, Y_treino, Y_teste):\n",
        "    modelo.fit(X_treino, Y_treino)\n",
        "    predicoes = modelo.predict(X_teste)\n",
        "    return mean_squared_error(Y_teste, predicoes)\n",
        "\n",
        "for i in range(0, len(modelos_rf)):\n",
        "    mse = avaliacao(modelos_rf[i], X_treino, X_teste, Y_treino, Y_teste)\n",
        "    print(\"Modelo %d MSE: %d\" % (i+1, mse))"
      ],
      "execution_count": 31,
      "outputs": [
        {
          "output_type": "stream",
          "text": [
            "Modelo 1 MSE: 2198\n",
            "Modelo 2 MSE: 2178\n",
            "Modelo 3 MSE: 2098\n",
            "Modelo 4 MSE: 2092\n",
            "Modelo 5 MSE: 2119\n",
            "Modelo 6 MSE: 2119\n"
          ],
          "name": "stdout"
        }
      ]
    },
    {
      "cell_type": "markdown",
      "metadata": {
        "id": "XZJvizMwBwaE",
        "colab_type": "text"
      },
      "source": [
        "# Validação cruzada"
      ]
    },
    {
      "cell_type": "code",
      "metadata": {
        "id": "gFD2iJCaBwL-",
        "colab_type": "code",
        "colab": {}
      },
      "source": [
        "dados_cv = dados.copy()\n",
        "\n",
        "X_cv = dados_cv[coluna_features]\n",
        "\n",
        "Y_cv = dados_cv[coluna_label]"
      ],
      "execution_count": 0,
      "outputs": []
    },
    {
      "cell_type": "code",
      "metadata": {
        "id": "3nsSfk4CBv_W",
        "colab_type": "code",
        "colab": {}
      },
      "source": [
        "dados_cv.loc[dados_cv['NU_NOTA_CN'] == 0, 'NU_NOTA_CN'] = dados_cv['NU_NOTA_CN'].mean()\n",
        "dados_cv.loc[dados_cv['NU_NOTA_CH'] == 0, 'NU_NOTA_CH'] = dados_cv['NU_NOTA_CH'].mean()\n",
        "dados_cv.loc[dados_cv['NU_NOTA_MT'] == 0, 'NU_NOTA_MT'] = dados_cv['NU_NOTA_MT'].mean()"
      ],
      "execution_count": 0,
      "outputs": []
    },
    {
      "cell_type": "code",
      "metadata": {
        "id": "EPZnkwNBRkA7",
        "colab_type": "code",
        "colab": {}
      },
      "source": [
        "from sklearn.model_selection import cross_val_score"
      ],
      "execution_count": 0,
      "outputs": []
    },
    {
      "cell_type": "code",
      "metadata": {
        "id": "vileSRL7FPJq",
        "colab_type": "code",
        "colab": {}
      },
      "source": [
        "def avaliacao_cv(n_estimators):\n",
        "  modelo_cv = RandomForestRegressor(n_estimators=n_estimators, min_samples_split=20, max_depth=8, n_jobs=-1, random_state=0)\n",
        "\n",
        "  scores = -1 * cross_val_score(modelo_cv, X_cv, Y_cv,\n",
        "                              cv=5,\n",
        "                              scoring='neg_mean_squared_error')\n",
        "  return scores.mean()"
      ],
      "execution_count": 0,
      "outputs": []
    },
    {
      "cell_type": "code",
      "metadata": {
        "id": "DOFd3ThTF-md",
        "colab_type": "code",
        "colab": {}
      },
      "source": [
        "n_trees = [100, 200, 400, 500]\n",
        "avaliacoes={}\n",
        "for i in n_trees:\n",
        "    avaliacoes[i] = avaliacao_cv(i)"
      ],
      "execution_count": 0,
      "outputs": []
    },
    {
      "cell_type": "code",
      "metadata": {
        "id": "eQKiWE_-GQtB",
        "colab_type": "code",
        "colab": {
          "base_uri": "https://localhost:8080/",
          "height": 265
        },
        "outputId": "c721b1b7-a806-4151-b968-f27ce43336d2"
      },
      "source": [
        "import matplotlib.pyplot as plt\n",
        "\n",
        "plt.plot(list(avaliacoes.keys()), list(avaliacoes.values()))\n",
        "plt.show()"
      ],
      "execution_count": 37,
      "outputs": [
        {
          "output_type": "display_data",
          "data": {
            "image/png": "[encoded data removed]",
            "text/plain": [
              "<Figure size 432x288 with 1 Axes>"
            ]
          },
          "metadata": {
            "tags": [],
            "needs_background": "light"
          }
        }
      ]
    },
    {
      "cell_type": "markdown",
      "metadata": {
        "id": "sGGUJEFqWurx",
        "colab_type": "text"
      },
      "source": [
        "# Modelo 3 - Gradient Boosting"
      ]
    },
    {
      "cell_type": "code",
      "metadata": {
        "id": "hwbG58ExWubU",
        "colab_type": "code",
        "colab": {
          "base_uri": "https://localhost:8080/",
          "height": 143
        },
        "outputId": "c1a34d67-a99e-4f04-e3e9-de8fa806e830"
      },
      "source": [
        "from xgboost import XGBRegressor\n",
        "\n",
        "modelo_xg = XGBRegressor(random_state=0, objective='reg:squarederror')\n",
        "modelo_xg.fit(X_treino, Y_treino)\n"
      ],
      "execution_count": 38,
      "outputs": [
        {
          "output_type": "execute_result",
          "data": {
            "text/plain": [
              "XGBRegressor(base_score=0.5, booster='gbtree', colsample_bylevel=1,\n",
              "             colsample_bynode=1, colsample_bytree=1, gamma=0,\n",
              "             importance_type='gain', learning_rate=0.1, max_delta_step=0,\n",
              "             max_depth=3, min_child_weight=1, missing=None, n_estimators=100,\n",
              "             n_jobs=1, nthread=None, objective='reg:squarederror',\n",
              "             random_state=0, reg_alpha=0, reg_lambda=1, scale_pos_weight=1,\n",
              "             seed=None, silent=None, subsample=1, verbosity=1)"
            ]
          },
          "metadata": {
            "tags": []
          },
          "execution_count": 38
        }
      ]
    },
    {
      "cell_type": "code",
      "metadata": {
        "id": "Qc_k_BVsXED-",
        "colab_type": "code",
        "colab": {
          "base_uri": "https://localhost:8080/",
          "height": 35
        },
        "outputId": "73d91c74-ebeb-48f3-f0a9-e4634ff12a58"
      },
      "source": [
        "predicoes_xg = modelo_xg.predict(X_teste)\n",
        "print(\"MSE: \" + str(mean_squared_error(predicoes_xg, Y_teste)))"
      ],
      "execution_count": 39,
      "outputs": [
        {
          "output_type": "stream",
          "text": [
            "MSE: 2029.2639012767559\n"
          ],
          "name": "stdout"
        }
      ]
    },
    {
      "cell_type": "code",
      "metadata": {
        "id": "pdfTSk2xXYpG",
        "colab_type": "code",
        "colab": {
          "base_uri": "https://localhost:8080/",
          "height": 35
        },
        "outputId": "547cc3a0-386f-4df7-d167-cdccfeb7183d"
      },
      "source": [
        "modelo_xg_1 = XGBRegressor(n_estimators=500, random_state=0, objective='reg:squarederror')\n",
        "modelo_xg_1.fit(X_treino, Y_treino)\n",
        "predicoes_xg_1 = modelo_xg_1.predict(X_teste)\n",
        "print(\"MSE: \" + str(mean_squared_error(predicoes_xg_1, Y_teste)))"
      ],
      "execution_count": 40,
      "outputs": [
        {
          "output_type": "stream",
          "text": [
            "MSE: 2033.3115710828965\n"
          ],
          "name": "stdout"
        }
      ]
    },
    {
      "cell_type": "code",
      "metadata": {
        "id": "oRYyr1vUXlYb",
        "colab_type": "code",
        "colab": {}
      },
      "source": [
        "def avaliacao_xg(n_estimators):\n",
        "  modelo = XGBRegressor(n_estimators=n_estimators, random_state=0, objective='reg:squarederror')\n",
        "  modelo.fit(X_treino, Y_treino)\n",
        "  predicoes = modelo.predict(X_teste)\n",
        "  return(mean_squared_error(predicoes, Y_teste))"
      ],
      "execution_count": 0,
      "outputs": []
    },
    {
      "cell_type": "code",
      "metadata": {
        "id": "SzAav1_EYVAV",
        "colab_type": "code",
        "colab": {
          "base_uri": "https://localhost:8080/",
          "height": 125
        },
        "outputId": "b3331904-aa45-4e0d-ffee-ba6ef70c8540"
      },
      "source": [
        "estimators = [50, 100, 150, 200, 250, 300]\n",
        "\n",
        "for i in estimators:\n",
        "  mse = avaliacao_xg(i)\n",
        "  print('Estimators: {0}      MSE:{1}'.format(i, mse))"
      ],
      "execution_count": 42,
      "outputs": [
        {
          "output_type": "stream",
          "text": [
            "Estimators: 50      MSE:2040.1739972958433\n",
            "Estimators: 100      MSE:2029.2639012767559\n",
            "Estimators: 150      MSE:2029.5484671439256\n",
            "Estimators: 200      MSE:2029.8029384372326\n",
            "Estimators: 250      MSE:2030.0652502177647\n",
            "Estimators: 300      MSE:2030.6399704479584\n"
          ],
          "name": "stdout"
        }
      ]
    },
    {
      "cell_type": "code",
      "metadata": {
        "id": "9lDM2UNfbJc-",
        "colab_type": "code",
        "colab": {
          "base_uri": "https://localhost:8080/",
          "height": 143
        },
        "outputId": "3a80cd80-f08a-40b0-f1df-32405bf4e4f1"
      },
      "source": [
        "modelo_xg_2 = XGBRegressor(n_estimators=200, random_state=0, objective='reg:squarederror')\n",
        "modelo_xg_2.fit(X_treino, Y_treino, \n",
        "                early_stopping_rounds=5,\n",
        "                eval_set=[(X_teste, Y_teste)],\n",
        "                verbose=False)"
      ],
      "execution_count": 43,
      "outputs": [
        {
          "output_type": "execute_result",
          "data": {
            "text/plain": [
              "XGBRegressor(base_score=0.5, booster='gbtree', colsample_bylevel=1,\n",
              "             colsample_bynode=1, colsample_bytree=1, gamma=0,\n",
              "             importance_type='gain', learning_rate=0.1, max_delta_step=0,\n",
              "             max_depth=3, min_child_weight=1, missing=None, n_estimators=200,\n",
              "             n_jobs=1, nthread=None, objective='reg:squarederror',\n",
              "             random_state=0, reg_alpha=0, reg_lambda=1, scale_pos_weight=1,\n",
              "             seed=None, silent=None, subsample=1, verbosity=1)"
            ]
          },
          "metadata": {
            "tags": []
          },
          "execution_count": 43
        }
      ]
    },
    {
      "cell_type": "code",
      "metadata": {
        "id": "1ekXUygtbgwZ",
        "colab_type": "code",
        "colab": {
          "base_uri": "https://localhost:8080/",
          "height": 35
        },
        "outputId": "7681497a-a437-4736-f759-db7ac59c8ec7"
      },
      "source": [
        "predicoes_xg_2 = modelo_xg_2.predict(X_teste)\n",
        "print(\"MSE: \" + str(mean_squared_error(predicoes_xg_2, Y_teste)))"
      ],
      "execution_count": 44,
      "outputs": [
        {
          "output_type": "stream",
          "text": [
            "MSE: 2029.1897560586206\n"
          ],
          "name": "stdout"
        }
      ]
    },
    {
      "cell_type": "code",
      "metadata": {
        "id": "pwKkMfTMcBVX",
        "colab_type": "code",
        "colab": {
          "base_uri": "https://localhost:8080/",
          "height": 143
        },
        "outputId": "67a0e74f-7689-4aae-b2a0-8b2ca07dc892"
      },
      "source": [
        "modelo_xg_3 = XGBRegressor(n_estimators=900, learning_rate=0.02, random_state=0, objective='reg:squarederror', max_depth=5)\n",
        "modelo_xg_3.fit(X_treino, Y_treino, \n",
        "                early_stopping_rounds=5,\n",
        "                eval_set=[(X_teste, Y_teste)],\n",
        "                verbose=False)"
      ],
      "execution_count": 45,
      "outputs": [
        {
          "output_type": "execute_result",
          "data": {
            "text/plain": [
              "XGBRegressor(base_score=0.5, booster='gbtree', colsample_bylevel=1,\n",
              "             colsample_bynode=1, colsample_bytree=1, gamma=0,\n",
              "             importance_type='gain', learning_rate=0.02, max_delta_step=0,\n",
              "             max_depth=5, min_child_weight=1, missing=None, n_estimators=900,\n",
              "             n_jobs=1, nthread=None, objective='reg:squarederror',\n",
              "             random_state=0, reg_alpha=0, reg_lambda=1, scale_pos_weight=1,\n",
              "             seed=None, silent=None, subsample=1, verbosity=1)"
            ]
          },
          "metadata": {
            "tags": []
          },
          "execution_count": 45
        }
      ]
    },
    {
      "cell_type": "code",
      "metadata": {
        "id": "uc7l5RJ7cLAi",
        "colab_type": "code",
        "colab": {
          "base_uri": "https://localhost:8080/",
          "height": 35
        },
        "outputId": "2655cba2-8679-4a6f-93b3-d05222b3e412"
      },
      "source": [
        "predicoes_xg_3 = modelo_xg_3.predict(X_teste)\n",
        "print(\"MSE: \" + str(mean_squared_error(predicoes_xg_3, Y_teste)))"
      ],
      "execution_count": 46,
      "outputs": [
        {
          "output_type": "stream",
          "text": [
            "MSE: 2025.9923914122073\n"
          ],
          "name": "stdout"
        }
      ]
    },
    {
      "cell_type": "code",
      "metadata": {
        "id": "crlkl2qlh_XB",
        "colab_type": "code",
        "colab": {}
      },
      "source": [
        "def avaliacao_cv_xg(n_estimators):\n",
        "  modelo_cv = XGBRegressor(n_estimators=n_estimators, learning_rate=0.05, random_state=0, objective='reg:squarederror')\n",
        "\n",
        "  scores = -1 * cross_val_score(modelo_cv, X_cv, Y_cv,\n",
        "                              cv=5,\n",
        "                              scoring='neg_mean_squared_error')\n",
        "  return scores.mean()"
      ],
      "execution_count": 0,
      "outputs": []
    },
    {
      "cell_type": "code",
      "metadata": {
        "id": "YATSLJ3kig5U",
        "colab_type": "code",
        "colab": {}
      },
      "source": [
        "n_trees = [100, 200, 300, 400]\n",
        "avaliacoes_xg={}\n",
        "for i in n_trees:\n",
        "    avaliacoes_xg[i] = avaliacao_cv_xg(i)"
      ],
      "execution_count": 0,
      "outputs": []
    },
    {
      "cell_type": "code",
      "metadata": {
        "id": "kiADn6AYlQHD",
        "colab_type": "code",
        "colab": {
          "base_uri": "https://localhost:8080/",
          "height": 89
        },
        "outputId": "05527527-1389-4c53-8142-e6e2ab48a50d"
      },
      "source": [
        "avaliacoes_xg"
      ],
      "execution_count": 49,
      "outputs": [
        {
          "output_type": "execute_result",
          "data": {
            "text/plain": [
              "{100: 2038.19788352073,\n",
              " 200: 2022.512112204881,\n",
              " 300: 2021.6458459174864,\n",
              " 400: 2022.9697583774341}"
            ]
          },
          "metadata": {
            "tags": []
          },
          "execution_count": 49
        }
      ]
    },
    {
      "cell_type": "code",
      "metadata": {
        "id": "V_Tr0cC5it4X",
        "colab_type": "code",
        "colab": {
          "base_uri": "https://localhost:8080/",
          "height": 265
        },
        "outputId": "888ddf3d-26d6-4b2b-e8f0-b41ef0263cf0"
      },
      "source": [
        "plt.plot(list(avaliacoes_xg.keys()), list(avaliacoes_xg.values()))\n",
        "plt.show()"
      ],
      "execution_count": 50,
      "outputs": [
        {
          "output_type": "display_data",
          "data": {
            "image/png": "[encoded data removed]",
            "text/plain": [
              "<Figure size 432x288 with 1 Axes>"
            ]
          },
          "metadata": {
            "tags": [],
            "needs_background": "light"
          }
        }
      ]
    },
    {
      "cell_type": "code",
      "metadata": {
        "id": "DzV7EuLC0JNw",
        "colab_type": "code",
        "colab": {}
      },
      "source": [
        "def avaliacao_cv_xg_2(n_estimators):\n",
        "  modelo_cv = XGBRegressor(n_estimators=n_estimators, learning_rate=0.02, random_state=0, objective='reg:squarederror')\n",
        "\n",
        "  scores = -1 * cross_val_score(modelo_cv, X_cv, Y_cv,\n",
        "                              cv=5,\n",
        "                              scoring='neg_mean_squared_error')\n",
        "  return scores.mean()"
      ],
      "execution_count": 0,
      "outputs": []
    },
    {
      "cell_type": "code",
      "metadata": {
        "id": "9JPPtW6D0SGp",
        "colab_type": "code",
        "colab": {}
      },
      "source": [
        "n_trees_2 = [900, 910, 920, 930]\n",
        "\n",
        "avaliacoes_xg_2={}\n",
        "for i in n_trees_2:\n",
        "    avaliacoes_xg_2[i] = avaliacao_cv_xg_2(i)"
      ],
      "execution_count": 0,
      "outputs": []
    },
    {
      "cell_type": "code",
      "metadata": {
        "id": "cHWmUlGIP9l1",
        "colab_type": "code",
        "colab": {
          "base_uri": "https://localhost:8080/",
          "height": 89
        },
        "outputId": "5564b59f-3301-41a6-c125-2d81a714a8bc"
      },
      "source": [
        "avaliacoes_xg_2"
      ],
      "execution_count": 53,
      "outputs": [
        {
          "output_type": "execute_result",
          "data": {
            "text/plain": [
              "{900: 2020.6849994674044,\n",
              " 910: 2020.6938439300532,\n",
              " 920: 2020.6532709217304,\n",
              " 930: 2020.7187483475602}"
            ]
          },
          "metadata": {
            "tags": []
          },
          "execution_count": 53
        }
      ]
    },
    {
      "cell_type": "code",
      "metadata": {
        "id": "TCUq_x8xQPII",
        "colab_type": "code",
        "colab": {
          "base_uri": "https://localhost:8080/",
          "height": 276
        },
        "outputId": "bafe3c6f-5a9d-47db-8e5c-a0da33e4c99c"
      },
      "source": [
        "plt.plot(list(avaliacoes_xg_2.keys()), list(avaliacoes_xg_2.values()))\n",
        "plt.show()"
      ],
      "execution_count": 54,
      "outputs": [
        {
          "output_type": "display_data",
          "data": {
            "image/png": "[encoded data removed]",
            "text/plain": [
              "<Figure size 432x288 with 1 Axes>"
            ]
          },
          "metadata": {
            "tags": [],
            "needs_background": "light"
          }
        }
      ]
    },
    {
      "cell_type": "code",
      "metadata": {
        "id": "gxeMWUKEYMhb",
        "colab_type": "code",
        "colab": {}
      },
      "source": [
        "def avaliacao_cv_xg_3(n_estimators):\n",
        "  modelo_cv = XGBRegressor(n_estimators=n_estimators, \n",
        "                           learning_rate=0.02,\n",
        "                           random_state=0, \n",
        "                           objective='reg:squarederror',\n",
        "                           max_depth=3, \n",
        "                           n_jobs=-1)\n",
        "\n",
        "  scores = -1 * cross_val_score(modelo_cv, X_cv, Y_cv,\n",
        "                              cv=5,\n",
        "                              scoring='neg_mean_squared_error')\n",
        "  return scores.mean()"
      ],
      "execution_count": 0,
      "outputs": []
    },
    {
      "cell_type": "code",
      "metadata": {
        "id": "ZA37Lk3DohBz",
        "colab_type": "code",
        "colab": {
          "base_uri": "https://localhost:8080/",
          "height": 35
        },
        "outputId": "943e2657-65eb-4423-ee02-a6e77375b8dc"
      },
      "source": [
        "avaliacao_cv_xg_3(900)"
      ],
      "execution_count": 56,
      "outputs": [
        {
          "output_type": "execute_result",
          "data": {
            "text/plain": [
              "2020.6849994674044"
            ]
          },
          "metadata": {
            "tags": []
          },
          "execution_count": 56
        }
      ]
    },
    {
      "cell_type": "markdown",
      "metadata": {
        "id": "bMWdtyA7i8_m",
        "colab_type": "text"
      },
      "source": [
        "# Testando os diferentes tipos de hiperparâmetros do XGBoost"
      ]
    },
    {
      "cell_type": "markdown",
      "metadata": {
        "id": "u1-SUcEZcLor",
        "colab_type": "text"
      },
      "source": [
        "### Teste 1 : max_depth e min_child_weight"
      ]
    },
    {
      "cell_type": "code",
      "metadata": {
        "id": "forWrbY2u890",
        "colab_type": "code",
        "colab": {}
      },
      "source": [
        "def avaliacao_cv_xg_3(max_depth, min_child_weight):\n",
        "  modelo_cv = XGBRegressor(n_estimators=900, \n",
        "                           learning_rate=0.02,\n",
        "                           random_state=0, \n",
        "                           objective='reg:squarederror',\n",
        "                           max_depth=max_depth, \n",
        "                           min_child_weight=min_child_weight, \n",
        "                           n_jobs=-1)\n",
        "\n",
        "  scores = -1 * cross_val_score(modelo_cv, X_cv, Y_cv,\n",
        "                              cv=5,\n",
        "                              scoring='neg_mean_squared_error')\n",
        "  return scores.mean()"
      ],
      "execution_count": 0,
      "outputs": []
    },
    {
      "cell_type": "code",
      "metadata": {
        "id": "ri9kXKrMxPbA",
        "colab_type": "code",
        "colab": {
          "base_uri": "https://localhost:8080/",
          "height": 179
        },
        "outputId": "e8bb096b-687f-4c91-8a60-8fe0855e3bbb"
      },
      "source": [
        "max_depth_list = [3, 5, 7]\n",
        "min_child_weight_list = [1, 3, 5]\n",
        "\n",
        "for i in max_depth_list:\n",
        "  for j in min_child_weight_list:\n",
        "    mse = avaliacao_cv_xg_3(i,j)\n",
        "\n",
        "    print(\"max_depth:{0}    min_child_weight:{1}    mse:{2}\".format(i,j,mse))"
      ],
      "execution_count": 58,
      "outputs": [
        {
          "output_type": "stream",
          "text": [
            "max_depth:3    min_child_weight:1    mse:2020.6849994674044\n",
            "max_depth:3    min_child_weight:3    mse:2021.2811608670868\n",
            "max_depth:3    min_child_weight:5    mse:2020.7017559196204\n",
            "max_depth:5    min_child_weight:1    mse:2028.9693417617611\n",
            "max_depth:5    min_child_weight:3    mse:2027.9222604300571\n",
            "max_depth:5    min_child_weight:5    mse:2027.6411683360773\n",
            "max_depth:7    min_child_weight:1    mse:2039.3076907434424\n",
            "max_depth:7    min_child_weight:3    mse:2039.0672731476413\n",
            "max_depth:7    min_child_weight:5    mse:2036.7702005372382\n"
          ],
          "name": "stdout"
        }
      ]
    },
    {
      "cell_type": "markdown",
      "metadata": {
        "id": "WWn82aKdcTTL",
        "colab_type": "text"
      },
      "source": [
        "Melhores valores encontrados: \n",
        "max_depth:3    min_child_weight:1    mse:2020.6849994674044"
      ]
    },
    {
      "cell_type": "markdown",
      "metadata": {
        "id": "lqgzmBwlcTBo",
        "colab_type": "text"
      },
      "source": [
        "### Teste 1.2 : Testando min_child_weight para valores maiores"
      ]
    },
    {
      "cell_type": "code",
      "metadata": {
        "id": "DzziKIfrACCo",
        "colab_type": "code",
        "colab": {
          "base_uri": "https://localhost:8080/",
          "height": 71
        },
        "outputId": "ec608a8b-45d2-45d7-9b4e-78f64e253100"
      },
      "source": [
        "max_depth_list = [3]\n",
        "min_child_weight_list = [7, 8, 9]\n",
        "\n",
        "for i in max_depth_list:\n",
        "  for j in min_child_weight_list:\n",
        "    mse = avaliacao_cv_xg_3(i,j)\n",
        "\n",
        "    print(\"max_depth:{0}    min_child_weight:{1}    mse:{2}\".format(i,j,mse))"
      ],
      "execution_count": 59,
      "outputs": [
        {
          "output_type": "stream",
          "text": [
            "max_depth:3    min_child_weight:7    mse:2020.494242496138\n",
            "max_depth:3    min_child_weight:8    mse:2020.6203871444552\n",
            "max_depth:3    min_child_weight:9    mse:2020.219332536669\n"
          ],
          "name": "stdout"
        }
      ]
    },
    {
      "cell_type": "markdown",
      "metadata": {
        "id": "NQ5TOJMpcvOv",
        "colab_type": "text"
      },
      "source": [
        "Melhores valores encontrados: max_depth:3    min_child_weight:9    mse:2020.219332536669\n"
      ]
    },
    {
      "cell_type": "markdown",
      "metadata": {
        "id": "QMFNKdcPcvFb",
        "colab_type": "text"
      },
      "source": [
        "### Teste 2 : colsample_bytree e subsample\n",
        "\n"
      ]
    },
    {
      "cell_type": "code",
      "metadata": {
        "id": "6GqWByJQ_Zpe",
        "colab_type": "code",
        "colab": {}
      },
      "source": [
        "def avaliacao_cv_xg_4(colsample_bytree, subsample):\n",
        "\n",
        "  modelo_cv = XGBRegressor(n_estimators=900, \n",
        "                           learning_rate=0.02,\n",
        "                           random_state=0, \n",
        "                           objective='reg:squarederror',\n",
        "                           max_depth=3, \n",
        "                           min_child_weight=9,\n",
        "                           colsample_bytree=colsample_bytree,\n",
        "                           subsample=subsample, \n",
        "                           n_jobs=-1)\n",
        "\n",
        "  scores = -1 * cross_val_score(modelo_cv, X_cv, Y_cv,\n",
        "                              cv=5,\n",
        "                              scoring='neg_mean_squared_error')\n",
        "  return scores.mean()"
      ],
      "execution_count": 0,
      "outputs": []
    },
    {
      "cell_type": "code",
      "metadata": {
        "id": "Z3OzjuEn_kEo",
        "colab_type": "code",
        "colab": {
          "base_uri": "https://localhost:8080/",
          "height": 305
        },
        "outputId": "b3c4eaec-3497-4e61-a386-b0e9f87b3a63"
      },
      "source": [
        "subsample=[0.6, 0.7, 0.8, 0.9]\n",
        "colsample_bytree=[0.6, 0.7, 0.8, 0.9]\n",
        "\n",
        "for i in subsample:\n",
        "  for j in colsample_bytree:\n",
        "    mse = avaliacao_cv_xg_4(i,j)\n",
        "\n",
        "    print(\"subsample:{0}    colsample_bytree:{1}    mse:{2}\".format(i,j,mse))"
      ],
      "execution_count": 61,
      "outputs": [
        {
          "output_type": "stream",
          "text": [
            "subsample:0.6    colsample_bytree:0.6    mse:2019.946338945995\n",
            "subsample:0.6    colsample_bytree:0.7    mse:2020.3712714911453\n",
            "subsample:0.6    colsample_bytree:0.8    mse:2020.3614685367982\n",
            "subsample:0.6    colsample_bytree:0.9    mse:2020.6734185094588\n",
            "subsample:0.7    colsample_bytree:0.6    mse:2019.946338945995\n",
            "subsample:0.7    colsample_bytree:0.7    mse:2020.3712714911453\n",
            "subsample:0.7    colsample_bytree:0.8    mse:2020.3614685367982\n",
            "subsample:0.7    colsample_bytree:0.9    mse:2020.6734185094588\n",
            "subsample:0.8    colsample_bytree:0.6    mse:2022.637422638621\n",
            "subsample:0.8    colsample_bytree:0.7    mse:2023.0690529166957\n",
            "subsample:0.8    colsample_bytree:0.8    mse:2022.7860683914332\n",
            "subsample:0.8    colsample_bytree:0.9    mse:2022.6071116247458\n",
            "subsample:0.9    colsample_bytree:0.6    mse:2022.637422638621\n",
            "subsample:0.9    colsample_bytree:0.7    mse:2023.0690529166957\n",
            "subsample:0.9    colsample_bytree:0.8    mse:2022.7860683914332\n",
            "subsample:0.9    colsample_bytree:0.9    mse:2022.6071116247458\n"
          ],
          "name": "stdout"
        }
      ]
    },
    {
      "cell_type": "markdown",
      "metadata": {
        "id": "RyhHcD8QdNLH",
        "colab_type": "text"
      },
      "source": [
        "Melhores valores encontrados: subsample:0.6    colsample_bytree:0.6    mse:2019.946338945995"
      ]
    },
    {
      "cell_type": "markdown",
      "metadata": {
        "id": "jHPnY-BUdXyV",
        "colab_type": "text"
      },
      "source": [
        "### Teste 3 : Alpha  - L1 Regularization"
      ]
    },
    {
      "cell_type": "code",
      "metadata": {
        "id": "J4_cspfvagw5",
        "colab_type": "code",
        "colab": {}
      },
      "source": [
        "def avaliacao_cv_xg_alpha(reg_alpha):\n",
        "\n",
        "  modelo_cv = XGBRegressor(n_estimators=900, \n",
        "                           learning_rate=0.02,\n",
        "                           random_state=0, \n",
        "                           objective='reg:squarederror',\n",
        "                           max_depth=3, \n",
        "                           min_child_weight=9,\n",
        "                           colsample_bytree=0.6,\n",
        "                           subsample=0.6, \n",
        "                           reg_alpha=reg_alpha,\n",
        "                           n_jobs=-1)\n",
        "\n",
        "  scores = -1 * cross_val_score(modelo_cv, X_cv, Y_cv,\n",
        "                              cv=5,\n",
        "                              scoring='neg_mean_squared_error')\n",
        "  return scores.mean()"
      ],
      "execution_count": 0,
      "outputs": []
    },
    {
      "cell_type": "code",
      "metadata": {
        "id": "S5CXzSFYbEfQ",
        "colab_type": "code",
        "colab": {
          "base_uri": "https://localhost:8080/",
          "height": 107
        },
        "outputId": "1b49856d-4984-4402-96df-b9587afae4f3"
      },
      "source": [
        "reg_alpha = [1e-5, 1e-2, 0.1, 1, 100]\n",
        "\n",
        "for i in reg_alpha:\n",
        "  mse = avaliacao_cv_xg_alpha(i)\n",
        "\n",
        "  print(\"avaliacao_cv_xg_alpha:{0}    mse:{1}\".format(i,mse))"
      ],
      "execution_count": 63,
      "outputs": [
        {
          "output_type": "stream",
          "text": [
            "avaliacao_cv_xg_alpha:1e-05    mse:2019.9463390969206\n",
            "avaliacao_cv_xg_alpha:0.01    mse:2019.8840813773245\n",
            "avaliacao_cv_xg_alpha:0.1    mse:2019.9369285957473\n",
            "avaliacao_cv_xg_alpha:1    mse:2020.038200065987\n",
            "avaliacao_cv_xg_alpha:100    mse:2019.4449421203408\n"
          ],
          "name": "stdout"
        }
      ]
    },
    {
      "cell_type": "markdown",
      "metadata": {
        "id": "JXm0U8hmg9i9",
        "colab_type": "text"
      },
      "source": [
        "### Teste 3.1 : Refinando Alpha"
      ]
    },
    {
      "cell_type": "code",
      "metadata": {
        "id": "wM37ocTUhO5P",
        "colab_type": "code",
        "colab": {
          "base_uri": "https://localhost:8080/",
          "height": 71
        },
        "outputId": "1c464cb5-38c5-4dcf-8e39-696c4e3ae7e1"
      },
      "source": [
        "reg_alpha = [100, 200, 300]\n",
        "\n",
        "for i in reg_alpha:\n",
        "  mse = avaliacao_cv_xg_alpha(i)\n",
        "\n",
        "  print(\"avaliacao_cv_xg_alpha:{0}    mse:{1}\".format(i,mse))"
      ],
      "execution_count": 64,
      "outputs": [
        {
          "output_type": "stream",
          "text": [
            "avaliacao_cv_xg_alpha:100    mse:2019.4449421203408\n",
            "avaliacao_cv_xg_alpha:200    mse:2019.1555812127524\n",
            "avaliacao_cv_xg_alpha:300    mse:2018.942770244987\n"
          ],
          "name": "stdout"
        }
      ]
    },
    {
      "cell_type": "code",
      "metadata": {
        "id": "QvDqSGT6mXw1",
        "colab_type": "code",
        "colab": {
          "base_uri": "https://localhost:8080/",
          "height": 35
        },
        "outputId": "52a44e72-be23-44e9-ee6c-a7bffdfdb691"
      },
      "source": [
        "avaliacao_cv_xg_alpha(1000)"
      ],
      "execution_count": 65,
      "outputs": [
        {
          "output_type": "execute_result",
          "data": {
            "text/plain": [
              "2017.5893782544827"
            ]
          },
          "metadata": {
            "tags": []
          },
          "execution_count": 65
        }
      ]
    },
    {
      "cell_type": "code",
      "metadata": {
        "id": "r_xIdKo2qILc",
        "colab_type": "code",
        "colab": {
          "base_uri": "https://localhost:8080/",
          "height": 125
        },
        "outputId": "260ed310-7e39-4f4e-f60f-c53e529ff8dd"
      },
      "source": [
        "reg_alpha = [0.05, 0.2, 0.5, 700, 800, 900]\n",
        "\n",
        "for i in reg_alpha:\n",
        "  mse = avaliacao_cv_xg_alpha(i)\n",
        "\n",
        "  print(\"avaliacao_cv_xg_alpha:{0}    mse:{1}\".format(i,mse))"
      ],
      "execution_count": 68,
      "outputs": [
        {
          "output_type": "stream",
          "text": [
            "avaliacao_cv_xg_alpha:0.05    mse:2020.004949144473\n",
            "avaliacao_cv_xg_alpha:0.2    mse:2019.989863779359\n",
            "avaliacao_cv_xg_alpha:0.5    mse:2019.9971490479807\n",
            "avaliacao_cv_xg_alpha:700    mse:2017.8186706592587\n",
            "avaliacao_cv_xg_alpha:800    mse:2017.7714324275562\n",
            "avaliacao_cv_xg_alpha:900    mse:2017.8839302253969\n"
          ],
          "name": "stdout"
        }
      ]
    },
    {
      "cell_type": "markdown",
      "metadata": {
        "id": "rg16IzTSUZoY",
        "colab_type": "text"
      },
      "source": [
        "### Teste 4: Lambda - L2 Regularization"
      ]
    },
    {
      "cell_type": "code",
      "metadata": {
        "id": "jTj9S_OdUZZ_",
        "colab_type": "code",
        "colab": {}
      },
      "source": [
        "def avaliacao_cv_xg_lambda(reg_alpha, reg_lambda):\n",
        "\n",
        "  modelo_cv = XGBRegressor(n_estimators=900, \n",
        "                           learning_rate=0.02,\n",
        "                           random_state=0, \n",
        "                           objective='reg:squarederror',\n",
        "                           max_depth=3, \n",
        "                           min_child_weight=9,\n",
        "                           colsample_bytree=0.6,\n",
        "                           subsample=0.6, \n",
        "                           reg_alpha=reg_alpha,\n",
        "                           reg_lambda=reg_lambda,\n",
        "                           n_jobs=-1)\n",
        "\n",
        "  scores = -1 * cross_val_score(modelo_cv, X_cv, Y_cv,\n",
        "                              cv=5,\n",
        "                              scoring='neg_mean_squared_error')\n",
        "  return scores.mean()"
      ],
      "execution_count": 0,
      "outputs": []
    },
    {
      "cell_type": "code",
      "metadata": {
        "id": "oqnv1X3XWrb_",
        "colab_type": "code",
        "colab": {
          "base_uri": "https://localhost:8080/",
          "height": 287
        },
        "outputId": "08a4e0b9-41cf-4876-8cd6-03cc946f3022"
      },
      "source": [
        "reg_alpha=[0.01, 100, 1000]\n",
        "reg_lambda=[1e-5, 1e-2, 0.1, 1, 100]\n",
        "\n",
        "for i in reg_alpha:\n",
        "  for j in reg_lambda:\n",
        "    mse = avaliacao_cv_xg_lambda(i,j)\n",
        "\n",
        "    print(\"alpha:{0}    lambda:{1}    mse:{2}\".format(i,j,mse))"
      ],
      "execution_count": 70,
      "outputs": [
        {
          "output_type": "stream",
          "text": [
            "alpha:0.01    lambda:1e-05    mse:2020.0940559686562\n",
            "alpha:0.01    lambda:0.01    mse:2020.2476493089591\n",
            "alpha:0.01    lambda:0.1    mse:2020.2966908900792\n",
            "alpha:0.01    lambda:1    mse:2019.8840813773245\n",
            "alpha:0.01    lambda:100    mse:2020.4668022294368\n",
            "alpha:100    lambda:1e-05    mse:2019.4125559007284\n",
            "alpha:100    lambda:0.01    mse:2019.4077610875847\n",
            "alpha:100    lambda:0.1    mse:2019.3456400102416\n",
            "alpha:100    lambda:1    mse:2019.4449421203408\n",
            "alpha:100    lambda:100    mse:2020.2571629774743\n",
            "alpha:1000    lambda:1e-05    mse:2017.8050231365294\n",
            "alpha:1000    lambda:0.01    mse:2017.8315947457384\n",
            "alpha:1000    lambda:0.1    mse:2017.782817164799\n",
            "alpha:1000    lambda:1    mse:2017.5893782544827\n",
            "alpha:1000    lambda:100    mse:2019.7714590746145\n"
          ],
          "name": "stdout"
        }
      ]
    },
    {
      "cell_type": "code",
      "metadata": {
        "id": "8XFnKXtfjhq4",
        "colab_type": "code",
        "colab": {
          "base_uri": "https://localhost:8080/",
          "height": 89
        },
        "outputId": "93b18ed7-011a-4773-a69a-d86f066570a6"
      },
      "source": [
        "reg_alpha=[1000]\n",
        "reg_lambda=[0.5, 1, 2, 3]\n",
        "\n",
        "for i in reg_alpha:\n",
        "  for j in reg_lambda:\n",
        "    mse = avaliacao_cv_xg_lambda(i,j)\n",
        "\n",
        "    print(\"alpha:{0}    lambda:{1}    mse:{2}\".format(i,j,mse))"
      ],
      "execution_count": 71,
      "outputs": [
        {
          "output_type": "stream",
          "text": [
            "alpha:1000    lambda:0.5    mse:2017.9314366707054\n",
            "alpha:1000    lambda:1    mse:2017.5893782544827\n",
            "alpha:1000    lambda:2    mse:2017.8282079375772\n",
            "alpha:1000    lambda:3    mse:2017.9097118149002\n"
          ],
          "name": "stdout"
        }
      ]
    },
    {
      "cell_type": "markdown",
      "metadata": {
        "id": "OU97evZIpBdU",
        "colab_type": "text"
      },
      "source": [
        "# Teste 5: Learing rate"
      ]
    },
    {
      "cell_type": "code",
      "metadata": {
        "colab_type": "code",
        "id": "_cAHOS62pMLe",
        "colab": {}
      },
      "source": [
        "def avaliacao_cv_xg_lr(learning_rate):\n",
        "\n",
        "  modelo_cv = XGBRegressor(n_estimators=900, \n",
        "                           learning_rate=learning_rate,\n",
        "                           random_state=0, \n",
        "                           objective='reg:squarederror',\n",
        "                           max_depth=3, \n",
        "                           min_child_weight=9,\n",
        "                           colsample_bytree=0.6,\n",
        "                           subsample=0.6, \n",
        "                           reg_alpha=1000,\n",
        "                           reg_lambda=1,\n",
        "                           n_jobs=-1)\n",
        "\n",
        "  scores = -1 * cross_val_score(modelo_cv, X_cv, Y_cv,\n",
        "                              cv=5,\n",
        "                              scoring='neg_mean_squared_error')\n",
        "  return scores.mean()"
      ],
      "execution_count": 0,
      "outputs": []
    },
    {
      "cell_type": "code",
      "metadata": {
        "id": "3piK8u7moExA",
        "colab_type": "code",
        "colab": {
          "base_uri": "https://localhost:8080/",
          "height": 53
        },
        "outputId": "e9055ab8-df71-418d-c6c7-26113fbe2676"
      },
      "source": [
        "learning_rate = [0.025, 0.035]\n",
        "\n",
        "for i in learning_rate:\n",
        "  mse = avaliacao_cv_xg_lr(i)\n",
        "\n",
        "  print(\"learning_rate:{0}    mse:{1}\".format(i,mse))"
      ],
      "execution_count": 80,
      "outputs": [
        {
          "output_type": "stream",
          "text": [
            "learning_rate:0.025    mse:2017.5863453436305\n",
            "learning_rate:0.035    mse:2017.2547838776015\n"
          ],
          "name": "stdout"
        }
      ]
    },
    {
      "cell_type": "code",
      "metadata": {
        "id": "0D4wQO3MoEkB",
        "colab_type": "code",
        "colab": {
          "base_uri": "https://localhost:8080/",
          "height": 35
        },
        "outputId": "da3f7ff5-b2a6-4b5f-bb71-000b2250867c"
      },
      "source": [
        "learning_rate = [0.03]\n",
        "\n",
        "for i in learning_rate:\n",
        "  mse = avaliacao_cv_xg_lr(i)\n",
        "\n",
        "  print(\"learning_rate:{0}    mse:{1}\".format(i,mse))"
      ],
      "execution_count": 82,
      "outputs": [
        {
          "output_type": "stream",
          "text": [
            "learning_rate:0.03    mse:2017.0766943411443\n"
          ],
          "name": "stdout"
        }
      ]
    },
    {
      "cell_type": "code",
      "metadata": {
        "id": "_r0pexmWnAgX",
        "colab_type": "code",
        "colab": {}
      },
      "source": [
        "modelo_final = XGBRegressor(n_estimators=900, \n",
        "                          learning_rate=0.03,\n",
        "                          random_state=0, \n",
        "                          objective='reg:squarederror',\n",
        "                          max_depth=3, \n",
        "                          min_child_weight=9,\n",
        "                          colsample_bytree=0.6,\n",
        "                          subsample=0.6, \n",
        "                          reg_alpha=1000,\n",
        "                          reg_lambda=1,\n",
        "                          n_jobs=-1)"
      ],
      "execution_count": 0,
      "outputs": []
    },
    {
      "cell_type": "code",
      "metadata": {
        "id": "ncBOti5knLPh",
        "colab_type": "code",
        "colab": {
          "base_uri": "https://localhost:8080/",
          "height": 143
        },
        "outputId": "da73fc69-9a20-4c0d-b011-2b6e0d2f18ed"
      },
      "source": [
        "modelo_final.fit(X_cv, Y_cv)"
      ],
      "execution_count": 98,
      "outputs": [
        {
          "output_type": "execute_result",
          "data": {
            "text/plain": [
              "XGBRegressor(base_score=0.5, booster='gbtree', colsample_bylevel=1,\n",
              "             colsample_bynode=1, colsample_bytree=0.6, gamma=0,\n",
              "             importance_type='gain', learning_rate=0.03, max_delta_step=0,\n",
              "             max_depth=3, min_child_weight=9, missing=None, n_estimators=900,\n",
              "             n_jobs=-1, nthread=None, objective='reg:squarederror',\n",
              "             random_state=0, reg_alpha=1000, reg_lambda=1, scale_pos_weight=1,\n",
              "             seed=None, silent=None, subsample=0.6, verbosity=1)"
            ]
          },
          "metadata": {
            "tags": []
          },
          "execution_count": 98
        }
      ]
    },
    {
      "cell_type": "markdown",
      "metadata": {
        "id": "Hz-HJgExCzMY",
        "colab_type": "text"
      },
      "source": [
        "# Tratando o Dataset final"
      ]
    },
    {
      "cell_type": "code",
      "metadata": {
        "id": "rYPfi48DDL41",
        "colab_type": "code",
        "colab": {
          "base_uri": "https://localhost:8080/",
          "height": 297
        },
        "outputId": "f6699271-0e50-416a-d639-e08fefe26a88"
      },
      "source": [
        "dados_desafioqt.describe()"
      ],
      "execution_count": 93,
      "outputs": [
        {
          "output_type": "execute_result",
          "data": {
            "text/html": [
              "<div>\n",
              "<style scoped>\n",
              "    .dataframe tbody tr th:only-of-type {\n",
              "        vertical-align: middle;\n",
              "    }\n",
              "\n",
              "    .dataframe tbody tr th {\n",
              "        vertical-align: top;\n",
              "    }\n",
              "\n",
              "    .dataframe thead th {\n",
              "        text-align: right;\n",
              "    }\n",
              "</style>\n",
              "<table border=\"1\" class=\"dataframe\">\n",
              "  <thead>\n",
              "    <tr style=\"text-align: right;\">\n",
              "      <th></th>\n",
              "      <th>ID</th>\n",
              "      <th>NU_NOTA_CN</th>\n",
              "      <th>NU_NOTA_CH</th>\n",
              "      <th>NU_NOTA_MT</th>\n",
              "      <th>NU_NOTA_REDACAO</th>\n",
              "    </tr>\n",
              "  </thead>\n",
              "  <tbody>\n",
              "    <tr>\n",
              "      <th>count</th>\n",
              "      <td>10000.00000</td>\n",
              "      <td>10000.000000</td>\n",
              "      <td>10000.000000</td>\n",
              "      <td>10000.000000</td>\n",
              "      <td>10000.000000</td>\n",
              "    </tr>\n",
              "    <tr>\n",
              "      <th>mean</th>\n",
              "      <td>4999.50000</td>\n",
              "      <td>493.699120</td>\n",
              "      <td>571.692870</td>\n",
              "      <td>535.307860</td>\n",
              "      <td>515.546000</td>\n",
              "    </tr>\n",
              "    <tr>\n",
              "      <th>std</th>\n",
              "      <td>2886.89568</td>\n",
              "      <td>73.512058</td>\n",
              "      <td>78.388181</td>\n",
              "      <td>103.141515</td>\n",
              "      <td>183.814419</td>\n",
              "    </tr>\n",
              "    <tr>\n",
              "      <th>min</th>\n",
              "      <td>0.00000</td>\n",
              "      <td>0.000000</td>\n",
              "      <td>0.000000</td>\n",
              "      <td>0.000000</td>\n",
              "      <td>0.000000</td>\n",
              "    </tr>\n",
              "    <tr>\n",
              "      <th>25%</th>\n",
              "      <td>2499.75000</td>\n",
              "      <td>436.100000</td>\n",
              "      <td>515.400000</td>\n",
              "      <td>455.100000</td>\n",
              "      <td>360.000000</td>\n",
              "    </tr>\n",
              "    <tr>\n",
              "      <th>50%</th>\n",
              "      <td>4999.50000</td>\n",
              "      <td>483.650000</td>\n",
              "      <td>586.300000</td>\n",
              "      <td>517.550000</td>\n",
              "      <td>520.000000</td>\n",
              "    </tr>\n",
              "    <tr>\n",
              "      <th>75%</th>\n",
              "      <td>7499.25000</td>\n",
              "      <td>542.700000</td>\n",
              "      <td>630.400000</td>\n",
              "      <td>601.000000</td>\n",
              "      <td>620.000000</td>\n",
              "    </tr>\n",
              "    <tr>\n",
              "      <th>max</th>\n",
              "      <td>9999.00000</td>\n",
              "      <td>771.100000</td>\n",
              "      <td>776.700000</td>\n",
              "      <td>946.500000</td>\n",
              "      <td>980.000000</td>\n",
              "    </tr>\n",
              "  </tbody>\n",
              "</table>\n",
              "</div>"
            ],
            "text/plain": [
              "                ID    NU_NOTA_CN    NU_NOTA_CH    NU_NOTA_MT  NU_NOTA_REDACAO\n",
              "count  10000.00000  10000.000000  10000.000000  10000.000000     10000.000000\n",
              "mean    4999.50000    493.699120    571.692870    535.307860       515.546000\n",
              "std     2886.89568     73.512058     78.388181    103.141515       183.814419\n",
              "min        0.00000      0.000000      0.000000      0.000000         0.000000\n",
              "25%     2499.75000    436.100000    515.400000    455.100000       360.000000\n",
              "50%     4999.50000    483.650000    586.300000    517.550000       520.000000\n",
              "75%     7499.25000    542.700000    630.400000    601.000000       620.000000\n",
              "max     9999.00000    771.100000    776.700000    946.500000       980.000000"
            ]
          },
          "metadata": {
            "tags": []
          },
          "execution_count": 93
        }
      ]
    },
    {
      "cell_type": "code",
      "metadata": {
        "id": "vXTAqHhICmmN",
        "colab_type": "code",
        "colab": {}
      },
      "source": [
        "dados_desafioqt.loc[dados_desafioqt['NU_NOTA_CN'] == 0, 'NU_NOTA_CN'] = dados_desafioqt['NU_NOTA_CN'].mean()\n",
        "dados_desafioqt.loc[dados_desafioqt['NU_NOTA_CH'] == 0, 'NU_NOTA_CH'] = dados_desafioqt['NU_NOTA_CH'].mean()\n",
        "dados_desafioqt.loc[dados_desafioqt['NU_NOTA_MT'] == 0, 'NU_NOTA_MT'] = dados_desafioqt['NU_NOTA_MT'].mean()"
      ],
      "execution_count": 0,
      "outputs": []
    },
    {
      "cell_type": "code",
      "metadata": {
        "id": "PtAJ11_cDlDv",
        "colab_type": "code",
        "colab": {
          "base_uri": "https://localhost:8080/",
          "height": 297
        },
        "outputId": "96d0920e-31d1-4d14-d6d7-7c6d91384173"
      },
      "source": [
        "dados_desafioqt.describe()"
      ],
      "execution_count": 95,
      "outputs": [
        {
          "output_type": "execute_result",
          "data": {
            "text/html": [
              "<div>\n",
              "<style scoped>\n",
              "    .dataframe tbody tr th:only-of-type {\n",
              "        vertical-align: middle;\n",
              "    }\n",
              "\n",
              "    .dataframe tbody tr th {\n",
              "        vertical-align: top;\n",
              "    }\n",
              "\n",
              "    .dataframe thead th {\n",
              "        text-align: right;\n",
              "    }\n",
              "</style>\n",
              "<table border=\"1\" class=\"dataframe\">\n",
              "  <thead>\n",
              "    <tr style=\"text-align: right;\">\n",
              "      <th></th>\n",
              "      <th>ID</th>\n",
              "      <th>NU_NOTA_CN</th>\n",
              "      <th>NU_NOTA_CH</th>\n",
              "      <th>NU_NOTA_MT</th>\n",
              "      <th>NU_NOTA_REDACAO</th>\n",
              "    </tr>\n",
              "  </thead>\n",
              "  <tbody>\n",
              "    <tr>\n",
              "      <th>count</th>\n",
              "      <td>10000.00000</td>\n",
              "      <td>10000.000000</td>\n",
              "      <td>10000.000000</td>\n",
              "      <td>10000.000000</td>\n",
              "      <td>10000.000000</td>\n",
              "    </tr>\n",
              "    <tr>\n",
              "      <th>mean</th>\n",
              "      <td>4999.50000</td>\n",
              "      <td>493.797860</td>\n",
              "      <td>572.207394</td>\n",
              "      <td>535.468452</td>\n",
              "      <td>515.546000</td>\n",
              "    </tr>\n",
              "    <tr>\n",
              "      <th>std</th>\n",
              "      <td>2886.89568</td>\n",
              "      <td>73.179644</td>\n",
              "      <td>76.487014</td>\n",
              "      <td>102.723763</td>\n",
              "      <td>183.814419</td>\n",
              "    </tr>\n",
              "    <tr>\n",
              "      <th>min</th>\n",
              "      <td>0.00000</td>\n",
              "      <td>362.500000</td>\n",
              "      <td>394.500000</td>\n",
              "      <td>369.400000</td>\n",
              "      <td>0.000000</td>\n",
              "    </tr>\n",
              "    <tr>\n",
              "      <th>25%</th>\n",
              "      <td>2499.75000</td>\n",
              "      <td>436.100000</td>\n",
              "      <td>515.775000</td>\n",
              "      <td>455.200000</td>\n",
              "      <td>360.000000</td>\n",
              "    </tr>\n",
              "    <tr>\n",
              "      <th>50%</th>\n",
              "      <td>4999.50000</td>\n",
              "      <td>483.700000</td>\n",
              "      <td>586.300000</td>\n",
              "      <td>517.650000</td>\n",
              "      <td>520.000000</td>\n",
              "    </tr>\n",
              "    <tr>\n",
              "      <th>75%</th>\n",
              "      <td>7499.25000</td>\n",
              "      <td>542.700000</td>\n",
              "      <td>630.400000</td>\n",
              "      <td>601.000000</td>\n",
              "      <td>620.000000</td>\n",
              "    </tr>\n",
              "    <tr>\n",
              "      <th>max</th>\n",
              "      <td>9999.00000</td>\n",
              "      <td>771.100000</td>\n",
              "      <td>776.700000</td>\n",
              "      <td>946.500000</td>\n",
              "      <td>980.000000</td>\n",
              "    </tr>\n",
              "  </tbody>\n",
              "</table>\n",
              "</div>"
            ],
            "text/plain": [
              "                ID    NU_NOTA_CN    NU_NOTA_CH    NU_NOTA_MT  NU_NOTA_REDACAO\n",
              "count  10000.00000  10000.000000  10000.000000  10000.000000     10000.000000\n",
              "mean    4999.50000    493.797860    572.207394    535.468452       515.546000\n",
              "std     2886.89568     73.179644     76.487014    102.723763       183.814419\n",
              "min        0.00000    362.500000    394.500000    369.400000         0.000000\n",
              "25%     2499.75000    436.100000    515.775000    455.200000       360.000000\n",
              "50%     4999.50000    483.700000    586.300000    517.650000       520.000000\n",
              "75%     7499.25000    542.700000    630.400000    601.000000       620.000000\n",
              "max     9999.00000    771.100000    776.700000    946.500000       980.000000"
            ]
          },
          "metadata": {
            "tags": []
          },
          "execution_count": 95
        }
      ]
    },
    {
      "cell_type": "code",
      "metadata": {
        "id": "IhYVqMEkCk5z",
        "colab_type": "code",
        "colab": {}
      },
      "source": [
        "from google.colab import files\n",
        "\n",
        "\n",
        "X_desafioqt = dados_desafioqt[coluna_features]\n",
        "predicao_desafioqt = modelo_final.predict(X_desafioqt)\n",
        "\n",
        "\n",
        "desafio_df = pd.DataFrame(dados_desafioqt.ID)\n",
        "desafio_df[coluna_label] = predicao_desafioqt\n",
        "\n",
        "#NÃO TROCAR O NOME DO ARQUIVO DE SAÍDA (PREDICAO_DESAFIO)\n",
        "desafio_df.to_csv('PREDICAO_DESAFIOQT.csv', index=False) \n",
        "files.download('PREDICAO_DESAFIOQT.csv')"
      ],
      "execution_count": 0,
      "outputs": []
    },
    {
      "cell_type": "code",
      "metadata": {
        "id": "pihTkBVYEBLQ",
        "colab_type": "code",
        "colab": {}
      },
      "source": [
        ""
      ],
      "execution_count": 0,
      "outputs": []
    }
  ]
}